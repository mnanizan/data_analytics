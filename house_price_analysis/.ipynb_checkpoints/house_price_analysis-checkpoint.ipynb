{
 "cells": [
  {
   "cell_type": "markdown",
   "id": "013908d9",
   "metadata": {},
   "source": [
    "#### The dataset is a training set that I got from Kaggle, it consist lots of data columns all about houses attributes at a certain area. The analysis is for the reader to understand the variables inside the dataset better by splitting it into numerical variables & categorical variables. Some data were translated into graph for ease of understanding. At the end is the analysis of relationship between the variables..\n",
    "\n",
    "\n",
    "Here's a brief version of what you'll find in the data description file:\n",
    "\n",
    "    SalePrice - the property's sale price in dollars. This is the target variable that you're trying to predict.\n",
    "    MSSubClass: The building class\n",
    "    MSZoning: The general zoning classification\n",
    "    LotFrontage: Linear feet of street connected to property\n",
    "    LotArea: Lot size in square feet\n",
    "    Street: Type of road access\n",
    "    Alley: Type of alley access\n",
    "    LotShape: General shape of property\n",
    "    LandContour: Flatness of the property\n",
    "    Utilities: Type of utilities available\n",
    "    LotConfig: Lot configuration\n",
    "    LandSlope: Slope of property\n",
    "    Neighborhood: Physical locations within Ames city limits\n",
    "    Condition1: Proximity to main road or railroad\n",
    "    Condition2: Proximity to main road or railroad (if a second is present)\n",
    "    BldgType: Type of dwelling\n",
    "    HouseStyle: Style of dwelling\n",
    "    OverallQual: Overall material and finish quality\n",
    "    OverallCond: Overall condition rating\n",
    "    YearBuilt: Original construction date\n",
    "    YearRemodAdd: Remodel date\n",
    "    RoofStyle: Type of roof\n",
    "    RoofMatl: Roof material\n",
    "    Exterior1st: Exterior covering on house\n",
    "    Exterior2nd: Exterior covering on house (if more than one material)\n",
    "    MasVnrType: Masonry veneer type\n",
    "    MasVnrArea: Masonry veneer area in square feet\n",
    "    ExterQual: Exterior material quality\n",
    "    ExterCond: Present condition of the material on the exterior\n",
    "    Foundation: Type of foundation\n",
    "    BsmtQual: Height of the basement\n",
    "    BsmtCond: General condition of the basement\n",
    "    BsmtExposure: Walkout or garden level basement walls\n",
    "    BsmtFinType1: Quality of basement finished area\n",
    "    BsmtFinSF1: Type 1 finished square feet\n",
    "    BsmtFinType2: Quality of second finished area (if present)\n",
    "    BsmtFinSF2: Type 2 finished square feet\n",
    "    BsmtUnfSF: Unfinished square feet of basement area\n",
    "    TotalBsmtSF: Total square feet of basement area\n",
    "    Heating: Type of heating\n",
    "    HeatingQC: Heating quality and condition\n",
    "    CentralAir: Central air conditioning\n",
    "    Electrical: Electrical system\n",
    "    1stFlrSF: First Floor square feet\n",
    "    2ndFlrSF: Second floor square feet\n",
    "    LowQualFinSF: Low quality finished square feet (all floors)\n",
    "    GrLivArea: Above grade (ground) living area square feet\n",
    "    BsmtFullBath: Basement full bathrooms\n",
    "    BsmtHalfBath: Basement half bathrooms\n",
    "    FullBath: Full bathrooms above grade\n",
    "    HalfBath: Half baths above grade\n",
    "    Bedroom: Number of bedrooms above basement level\n",
    "    Kitchen: Number of kitchens\n",
    "    KitchenQual: Kitchen quality\n",
    "    TotRmsAbvGrd: Total rooms above grade (does not include bathrooms)\n",
    "    Functional: Home functionality rating\n",
    "    Fireplaces: Number of fireplaces\n",
    "    FireplaceQu: Fireplace quality\n",
    "    GarageType: Garage location\n",
    "    GarageYrBlt: Year garage was built\n",
    "    GarageFinish: Interior finish of the garage\n",
    "    GarageCars: Size of garage in car capacity\n",
    "    GarageArea: Size of garage in square feet\n",
    "    GarageQual: Garage quality\n",
    "    GarageCond: Garage condition\n",
    "    PavedDrive: Paved driveway\n",
    "    WoodDeckSF: Wood deck area in square feet\n",
    "    OpenPorchSF: Open porch area in square feet\n",
    "    EnclosedPorch: Enclosed porch area in square feet\n",
    "    3SsnPorch: Three season porch area in square feet\n",
    "    ScreenPorch: Screen porch area in square feet\n",
    "    PoolArea: Pool area in square feet\n",
    "    PoolQC: Pool quality\n",
    "    Fence: Fence quality\n",
    "    MiscFeature: Miscellaneous feature not covered in other categories\n",
    "    MiscVal: $Value of miscellaneous feature\n",
    "    MoSold: Month Sold\n",
    "    YrSold: Year Sold\n",
    "    SaleType: Type of sale\n",
    "    SaleCondition: Condition of sale\n"
   ]
  },
  {
   "cell_type": "code",
   "execution_count": null,
   "id": "73dde40a",
   "metadata": {},
   "outputs": [],
   "source": [
    "import pandas as pd\n",
    "import numpy as np\n",
    "import matplotlib.pyplot as plt\n",
    "import seaborn as sns"
   ]
  },
  {
   "cell_type": "code",
   "execution_count": null,
   "id": "02ae951d",
   "metadata": {},
   "outputs": [],
   "source": [
    "housing = pd.read_csv('house_train.csv')"
   ]
  },
  {
   "cell_type": "code",
   "execution_count": null,
   "id": "c044a245",
   "metadata": {},
   "outputs": [],
   "source": [
    "housing.shape"
   ]
  },
  {
   "cell_type": "code",
   "execution_count": null,
   "id": "300ca9e4",
   "metadata": {},
   "outputs": [],
   "source": [
    "housing.info()"
   ]
  },
  {
   "cell_type": "markdown",
   "id": "45c5eb8b",
   "metadata": {},
   "source": [
    "# Objectives\n",
    "\n",
    "> Understand the variable in the data set\n",
    "\n",
    "> Understand how the variables in this dataset relate with the SalePrice of the house"
   ]
  },
  {
   "cell_type": "markdown",
   "id": "6defca82",
   "metadata": {},
   "source": [
    "### To understand the variables, we split the data into two categories :\n",
    "\n",
    "> Numerical variables: sale price, lot area, yearbuilt, over all condition rate\n",
    "        \n",
    "> Categorical variables: classification, lot shape, neighborhood, central air conditioning, sale condition, month/year sold"
   ]
  },
  {
   "cell_type": "code",
   "execution_count": null,
   "id": "225a937f",
   "metadata": {},
   "outputs": [],
   "source": [
    "numerical_vars = ['SalePrice','LotArea','OverallQual','OverallCond','YearBuilt','1stFlrSF','2ndFlrSF','BedroomAbvGr']\n",
    "categorical_vars = ['MSZoning','LotShape','Neighborhood','CentralAir','SaleCondition','MoSold','YrSold']"
   ]
  },
  {
   "cell_type": "code",
   "execution_count": null,
   "id": "93fa87ef",
   "metadata": {},
   "outputs": [],
   "source": [
    "housing = housing[numerical_vars + categorical_vars]"
   ]
  },
  {
   "cell_type": "code",
   "execution_count": null,
   "id": "065d650a",
   "metadata": {},
   "outputs": [],
   "source": [
    "housing.shape"
   ]
  },
  {
   "cell_type": "markdown",
   "id": "91ef0d93",
   "metadata": {},
   "source": [
    "### Understand the main variables."
   ]
  },
  {
   "cell_type": "code",
   "execution_count": null,
   "id": "181b9d5d",
   "metadata": {},
   "outputs": [],
   "source": [
    "housing['SalePrice'].describe()"
   ]
  },
  {
   "cell_type": "code",
   "execution_count": null,
   "id": "b9aafb98",
   "metadata": {},
   "outputs": [],
   "source": [
    "housing['SalePrice'].hist(edgecolor='black', bins=20)"
   ]
  },
  {
   "cell_type": "code",
   "execution_count": null,
   "id": "aab472a0",
   "metadata": {},
   "outputs": [],
   "source": [
    "# skewness & kurtosis\n",
    "print('Skewness: {:0.3f}'. format(housing['SalePrice'].skew()))\n",
    "print('Kurtosis: {:0.3f}'. format(housing['SalePrice'].kurt()))"
   ]
  },
  {
   "cell_type": "markdown",
   "id": "07a8f881",
   "metadata": {},
   "source": [
    "From  the graph & the data, we learnt that the data are __highly positive skewed & have a positive kurtosis__."
   ]
  },
  {
   "cell_type": "markdown",
   "id": "946c75a2",
   "metadata": {},
   "source": [
    "### Understand the Numerical Variables."
   ]
  },
  {
   "cell_type": "code",
   "execution_count": null,
   "id": "32adcb65",
   "metadata": {},
   "outputs": [],
   "source": [
    "housing[numerical_vars].describe()"
   ]
  },
  {
   "cell_type": "code",
   "execution_count": null,
   "id": "eda5a73c",
   "metadata": {},
   "outputs": [],
   "source": [
    "housing[numerical_vars].hist(edgecolor='black', bins=15, figsize=(14,5), layout= (2,4))"
   ]
  },
  {
   "cell_type": "markdown",
   "id": "2ca9667c",
   "metadata": {},
   "source": [
    "From the histograms, we can see that:\n",
    "\n",
    "1. The distribution of sizes of the first floor is skewed to the right. This is espected, there are a few big houses.\n",
    "2. There is a big peak at zero in the 2ndFlrSF variable. Those are the variables that don't have a second floor, so we can identify a new variable from this one.\n",
    "3. Most houses have 3 bedrooms.\n",
    "4. The lot area is highly skewed: there are few houses with a large lot area.\n",
    "5. The ratings for condition * quality tend to be around 5, few houses have very high or low ratings.\n",
    "6. The YearBuilt variable is actually not usefulin the present form. However we can use it to construct a variable that actually make sense: Age of the house at the same time of the sale."
   ]
  },
  {
   "cell_type": "markdown",
   "id": "fd01040c",
   "metadata": {},
   "source": [
    "### Lets check how old is the house before it is sold"
   ]
  },
  {
   "cell_type": "code",
   "execution_count": null,
   "id": "e3e76ecc",
   "metadata": {},
   "outputs": [],
   "source": [
    "housing['Age'] = housing['YrSold'] - housing['YearBuilt']\n",
    "numerical_vars.remove('YearBuilt')\n",
    "numerical_vars.append('Age')"
   ]
  },
  {
   "cell_type": "code",
   "execution_count": null,
   "id": "865d06e6",
   "metadata": {},
   "outputs": [],
   "source": [
    "housing[numerical_vars].hist(edgecolor='black', bins=15, figsize=(14,5), layout=(2,4));"
   ]
  },
  {
   "cell_type": "markdown",
   "id": "03fdce52",
   "metadata": {},
   "source": [
    "Now we can see clearly how many houses are new when they were sold."
   ]
  },
  {
   "cell_type": "markdown",
   "id": "14f80d2e",
   "metadata": {},
   "source": [
    "### Understanding the Categorical Variable."
   ]
  },
  {
   "cell_type": "code",
   "execution_count": null,
   "id": "cdccb683",
   "metadata": {},
   "outputs": [],
   "source": [
    "housing['SaleCondition'].value_counts().plot(kind='bar', title='SaleCondition')"
   ]
  },
  {
   "cell_type": "code",
   "execution_count": null,
   "id": "7a103ce8",
   "metadata": {},
   "outputs": [],
   "source": [
    "fig, ax = plt.subplots(2,4, figsize=(14,6))\n",
    "for var, subplot in zip(categorical_vars, ax.flatten()):\n",
    "    housing[var].value_counts().plot(kind='bar', ax=subplot, title=var)\n",
    "    \n",
    "fig.tight_layout()"
   ]
  },
  {
   "cell_type": "markdown",
   "id": "828327cc",
   "metadata": {},
   "source": [
    "Some graph have too many data, so we will eliminate some of the insignificant data to make it easier to understand"
   ]
  },
  {
   "cell_type": "code",
   "execution_count": null,
   "id": "f8b4951c",
   "metadata": {},
   "outputs": [],
   "source": [
    "# eliminates data that have < 30 observations\n",
    "def identify_cat_above30(series):\n",
    "    counts = series.value_counts()\n",
    "    return list(counts[counts>=30].index)"
   ]
  },
  {
   "cell_type": "code",
   "execution_count": null,
   "id": "809977e9",
   "metadata": {},
   "outputs": [],
   "source": [
    "levels_to_keep = housing[categorical_vars].apply(identify_cat_above30, axis=0)\n",
    "levels_to_keep"
   ]
  },
  {
   "cell_type": "code",
   "execution_count": null,
   "id": "f478cbe4",
   "metadata": {},
   "outputs": [],
   "source": [
    "for var in categorical_vars:\n",
    "    housing = housing.loc[housing[var].isin(levels_to_keep[var])]"
   ]
  },
  {
   "cell_type": "code",
   "execution_count": null,
   "id": "79b56d9c",
   "metadata": {},
   "outputs": [],
   "source": [
    "# a new data with > 30 observations.\n",
    "fig, ax=plt.subplots(2,4, figsize=(14,6))\n",
    "for var, subplot in zip(categorical_vars, ax.flatten()):\n",
    "    housing[var].value_counts().plot(kind='bar', ax=subplot, title=var)\n",
    "    \n",
    "fig.tight_layout()"
   ]
  },
  {
   "cell_type": "markdown",
   "id": "79608167",
   "metadata": {},
   "source": [
    "From the graph, we can see that:\n",
    "\n",
    "1. Most houses we sold in between May to July\n",
    "2. Most houses have central Air for the air-conditioning"
   ]
  },
  {
   "cell_type": "markdown",
   "id": "e161484d",
   "metadata": {},
   "source": [
    "### Relationships between Numerical Variables"
   ]
  },
  {
   "cell_type": "code",
   "execution_count": null,
   "id": "cb1cefd3",
   "metadata": {},
   "outputs": [],
   "source": [
    "housing.plot.scatter(x='1stFlrSF', y='SalePrice')"
   ]
  },
  {
   "cell_type": "code",
   "execution_count": null,
   "id": "b82f57d3",
   "metadata": {},
   "outputs": [],
   "source": [
    "sns.jointplot(x='1stFlrSF', y='SalePrice', data=housing, joint_kws={\"s\":10})"
   ]
  },
  {
   "cell_type": "code",
   "execution_count": null,
   "id": "65c90a5b",
   "metadata": {},
   "outputs": [],
   "source": [
    "sns.pairplot(housing[numerical_vars[:4]], plot_kws={'s':10});"
   ]
  },
  {
   "cell_type": "code",
   "execution_count": null,
   "id": "fffca4bf",
   "metadata": {},
   "outputs": [],
   "source": [
    "sns.pairplot(housing[['SalePrice']+numerical_vars[4:]], plot_kws={'s':10});"
   ]
  },
  {
   "cell_type": "code",
   "execution_count": null,
   "id": "b7a5daa7",
   "metadata": {},
   "outputs": [],
   "source": [
    "housing[numerical_vars].corr()"
   ]
  },
  {
   "cell_type": "code",
   "execution_count": null,
   "id": "7cbcd9b8",
   "metadata": {},
   "outputs": [],
   "source": [
    "housing[numerical_vars].corr()['SalePrice'].sort_values(ascending=False)"
   ]
  },
  {
   "cell_type": "code",
   "execution_count": null,
   "id": "712c6b05",
   "metadata": {},
   "outputs": [],
   "source": [
    "correlations = housing[numerical_vars].corr()"
   ]
  },
  {
   "cell_type": "code",
   "execution_count": null,
   "id": "278a8591",
   "metadata": {},
   "outputs": [],
   "source": [
    "fig, ax =plt.subplots(figsize=(7,5))\n",
    "sns.heatmap(correlations, ax =ax);"
   ]
  },
  {
   "cell_type": "markdown",
   "id": "c7e34510",
   "metadata": {},
   "source": [
    "### Relationships between  Categorical Variables"
   ]
  },
  {
   "cell_type": "code",
   "execution_count": null,
   "id": "40e3e98b",
   "metadata": {},
   "outputs": [],
   "source": [
    "sns.boxplot(x='CentralAir', y='SalePrice', data= housing);"
   ]
  },
  {
   "cell_type": "code",
   "execution_count": null,
   "id": "1a38094b",
   "metadata": {},
   "outputs": [],
   "source": [
    "fig, ax =plt.subplots(3,3,figsize=(14, 9))\n",
    "for var, subplot in zip(categorical_vars, ax.flatten()):\n",
    "    sns.boxplot(x=var, y='SalePrice', data=housing, ax=subplot)\n",
    "    \n",
    "fig.tight_layout()"
   ]
  },
  {
   "cell_type": "code",
   "execution_count": null,
   "id": "6203352a",
   "metadata": {},
   "outputs": [],
   "source": [
    "fig, ax = plt.subplots(figsize=(14,4))\n",
    "sns.boxplot(x='Neighborhood', y='SalePrice', data=housing, ax=ax);"
   ]
  },
  {
   "cell_type": "code",
   "execution_count": null,
   "id": "303018db",
   "metadata": {},
   "outputs": [],
   "source": [
    "sorted_nb = housing.groupby('Neighborhood')['SalePrice'].median().sort_values().index.values"
   ]
  },
  {
   "cell_type": "code",
   "execution_count": null,
   "id": "08f47a40",
   "metadata": {},
   "outputs": [],
   "source": [
    "fig, ax = plt.subplots(figsize=(14, 4))\n",
    "sns.boxplot(x='Neighborhood', y='SalePrice', data=housing, order=sorted_nb, ax=ax)\n",
    "plt.xticks(rotation='vertical');"
   ]
  },
  {
   "cell_type": "markdown",
   "id": "5f0fc47d",
   "metadata": {},
   "source": [
    "### More Complex Plots"
   ]
  },
  {
   "cell_type": "code",
   "execution_count": null,
   "id": "b30fdce1",
   "metadata": {},
   "outputs": [],
   "source": [
    "conditional_plot =sns.FacetGrid(housing, col='Neighborhood', col_wrap=4)\n",
    "conditional_plot.map(plt.scatter, 'OverallQual', 'SalePrice');"
   ]
  },
  {
   "cell_type": "code",
   "execution_count": null,
   "id": "b4e007b0",
   "metadata": {},
   "outputs": [],
   "source": [
    "conditional_plot =sns.FacetGrid(housing, col='YrSold', row='SaleCondition', hue='CentralAir')\n",
    "conditional_plot.map(plt.scatter, 'Age', 'SalePrice').add_legend();"
   ]
  },
  {
   "cell_type": "code",
   "execution_count": null,
   "id": "b49beb7d",
   "metadata": {},
   "outputs": [],
   "source": []
  }
 ],
 "metadata": {
  "kernelspec": {
   "display_name": "Python 3",
   "language": "python",
   "name": "python3"
  },
  "language_info": {
   "codemirror_mode": {
    "name": "ipython",
    "version": 3
   },
   "file_extension": ".py",
   "mimetype": "text/x-python",
   "name": "python",
   "nbconvert_exporter": "python",
   "pygments_lexer": "ipython3",
   "version": "3.8.8"
  }
 },
 "nbformat": 4,
 "nbformat_minor": 5
}
