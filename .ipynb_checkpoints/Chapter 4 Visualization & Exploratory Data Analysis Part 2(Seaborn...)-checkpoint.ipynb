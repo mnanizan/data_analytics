{
 "cells": [
  {
   "cell_type": "markdown",
   "id": "f518a611",
   "metadata": {},
   "source": [
    "# 4 Exploratory Data Analysis with Seaborn & Pandas"
   ]
  },
  {
   "cell_type": "markdown",
   "id": "cad75327",
   "metadata": {},
   "source": [
    "EDA: Exploratory Data Analysis"
   ]
  },
  {
   "cell_type": "markdown",
   "id": "e9efa128",
   "metadata": {},
   "source": [
    "Seaborn is a library for making attractive & informative statistical graphics on Python. It is built on top of matplotlib &and tighly integrated  with the Python Data Science stack"
   ]
  },
  {
   "cell_type": "markdown",
   "id": "d25beb95",
   "metadata": {},
   "source": [
    "# Missing the data file!!!"
   ]
  },
  {
   "cell_type": "code",
   "execution_count": 3,
   "id": "06fbca57",
   "metadata": {},
   "outputs": [],
   "source": [
    "#standard import statement\n",
    "import seaborn as sns"
   ]
  },
  {
   "cell_type": "markdown",
   "id": "ea579d90",
   "metadata": {},
   "source": [
    "## 4.2.1 Loading Data"
   ]
  },
  {
   "cell_type": "code",
   "execution_count": null,
   "id": "a52fceae",
   "metadata": {},
   "outputs": [],
   "source": [
    "housing = pd.read_csv('data_file')"
   ]
  },
  {
   "cell_type": "code",
   "execution_count": null,
   "id": "c7011388",
   "metadata": {},
   "outputs": [],
   "source": [
    "housing.shape"
   ]
  },
  {
   "cell_type": "code",
   "execution_count": null,
   "id": "ea81c8b6",
   "metadata": {},
   "outputs": [],
   "source": [
    "housing.info"
   ]
  },
  {
   "cell_type": "markdown",
   "id": "beefc37f",
   "metadata": {},
   "source": [
    "## 4.2.2 The question that will guise our analysis"
   ]
  },
  {
   "cell_type": "markdown",
   "id": "ce9b67a2",
   "metadata": {},
   "source": [
    "> Understand the variable in the data set\n",
    "\n",
    "> Understand how the variables in this dataset relate with the SalePrice of the house"
   ]
  },
  {
   "cell_type": "code",
   "execution_count": null,
   "id": "7c8ade69",
   "metadata": {},
   "outputs": [],
   "source": [
    "Image('img/variable_types.png', width=500)"
   ]
  },
  {
   "cell_type": "markdown",
   "id": "d49a94f4",
   "metadata": {},
   "source": [
    "To understand the variable categorize it into two types:\n",
    "    \n",
    "    > Numerical varible: sale price, lot area, yearbuilt, over all condition rate\n",
    "        \n",
    "    > Categorical variable: classification, lot shape, neighborhood, central air conditioning, sale condition, month/year sold"
   ]
  },
  {
   "cell_type": "code",
   "execution_count": null,
   "id": "6b5a363e",
   "metadata": {},
   "outputs": [],
   "source": [
    "numerical_vars = [' SalePrice','LotArea','OverAllQual','OverAllCond','YearBuilt','1stFlrSF','2ndFlrSF','BedroomAbvGr']\n",
    "categorical_vars = ['MSZoning','LotShape','Neighborhood','CentralAir','SaleCondition','Mosold','YrSold']"
   ]
  },
  {
   "cell_type": "code",
   "execution_count": null,
   "id": "2789157b",
   "metadata": {},
   "outputs": [],
   "source": [
    "housing = housing[numerical_vars + categorical_vars]"
   ]
  },
  {
   "cell_type": "code",
   "execution_count": null,
   "id": "763ea15c",
   "metadata": {},
   "outputs": [],
   "source": [
    "housing.shape"
   ]
  },
  {
   "cell_type": "markdown",
   "id": "2e5e58af",
   "metadata": {},
   "source": [
    "## 4.2.3 Understanding the main variable"
   ]
  },
  {
   "cell_type": "code",
   "execution_count": null,
   "id": "109d4fc2",
   "metadata": {},
   "outputs": [],
   "source": [
    "# descriptive statistic summary\n",
    "housing['SalePrice'].describe()"
   ]
  },
  {
   "cell_type": "code",
   "execution_count": null,
   "id": "2b1584f6",
   "metadata": {},
   "outputs": [],
   "source": [
    "housing['SalePrice'].hist(edgecolor='black', bins=20):"
   ]
  },
  {
   "cell_type": "code",
   "execution_count": null,
   "id": "e2100e5f",
   "metadata": {},
   "outputs": [],
   "source": [
    "# skewness & kurtosis\n",
    "print('Skewness: {:0.3f}'. format(housing['SalePrice'].skew()))\n",
    "print('Kurtosis: {:0.3f}'. format(housing['SalePrice'].kurt()))"
   ]
  },
  {
   "cell_type": "markdown",
   "id": "2e9c1118",
   "metadata": {},
   "source": [
    "## 4.2.4 Numerical Variable"
   ]
  },
  {
   "cell_type": "code",
   "execution_count": null,
   "id": "72ddd2a2",
   "metadata": {},
   "outputs": [],
   "source": [
    "housing[numerical_vars].describe()"
   ]
  },
  {
   "cell_type": "code",
   "execution_count": null,
   "id": "5882daf1",
   "metadata": {},
   "outputs": [],
   "source": [
    "housing[numerical_vars].hist(edgecolor='black', bins=15, figsize=(14,5), layout= (2,4));"
   ]
  },
  {
   "cell_type": "code",
   "execution_count": null,
   "id": "5b23aefc",
   "metadata": {},
   "outputs": [],
   "source": [
    "housing['Age']=housing['YrSold'] - housing['YearBuilt']\n",
    "numerical_vars.remove('YearBuilt')\n",
    "numerical_vars.append['Age']"
   ]
  },
  {
   "cell_type": "code",
   "execution_count": null,
   "id": "382af82a",
   "metadata": {},
   "outputs": [],
   "source": [
    "housing[numerical_vars].hist(edgecolor='black', bins=15, figsize=(14,5), layout=(2,4));"
   ]
  },
  {
   "cell_type": "markdown",
   "id": "ff1adbdc",
   "metadata": {},
   "source": [
    "## 4.2.5 Categorical Variable"
   ]
  },
  {
   "cell_type": "code",
   "execution_count": null,
   "id": "3fd3a54b",
   "metadata": {},
   "outputs": [],
   "source": [
    "housing['SaleCondition'].value_counts().plot(kind='bar', title='SaleCondition')"
   ]
  },
  {
   "cell_type": "code",
   "execution_count": null,
   "id": "018549a7",
   "metadata": {},
   "outputs": [],
   "source": [
    "fig, ax=plt.subplots(2,4, figsize=(14,6))\n",
    "for var, subplot in zip(categorical_vars, ax.flatten()):\n",
    "    housing[var].value_counts().plot(kind='bar', ax=subplot, title=var)\n",
    "    \n",
    "fig.tight_layout()"
   ]
  },
  {
   "cell_type": "markdown",
   "id": "fd36a5aa",
   "metadata": {},
   "source": [
    "eliminates data that are < 30"
   ]
  },
  {
   "cell_type": "code",
   "execution_count": null,
   "id": "b09d4a45",
   "metadata": {},
   "outputs": [],
   "source": [
    "def identify_cat_above30(series):\n",
    "    counts = series.value_counts()\n",
    "    return list(counts[counts>=30].index)"
   ]
  },
  {
   "cell_type": "code",
   "execution_count": null,
   "id": "4d267478",
   "metadata": {},
   "outputs": [],
   "source": [
    "levels_to_keep = housing[categorical_vars].apply(identify_cat_above30, axis=0)\n",
    "levels_to_keep"
   ]
  },
  {
   "cell_type": "code",
   "execution_count": null,
   "id": "1a298b52",
   "metadata": {},
   "outputs": [],
   "source": [
    "for var in categorical_vars:\n",
    "    housing = housing.loc[housing[var].isin(levels_to_keep[var])]"
   ]
  },
  {
   "cell_type": "code",
   "execution_count": null,
   "id": "606eea57",
   "metadata": {},
   "outputs": [],
   "source": [
    "housing.shape"
   ]
  },
  {
   "cell_type": "markdown",
   "id": "647e1251",
   "metadata": {},
   "source": [
    "a new data with > 30 "
   ]
  },
  {
   "cell_type": "code",
   "execution_count": null,
   "id": "a4e5cace",
   "metadata": {},
   "outputs": [],
   "source": [
    "fig, ax=plt.subplots(2,4, figsize=(14,6))\n",
    "for var, subplot in zip(categorical_vars, ax.flatten()):\n",
    "    housing[var].value_counts().plot(kind='bar', ax=subplot, title=var)\n",
    "    \n",
    "fig.tight_layout()"
   ]
  },
  {
   "cell_type": "markdown",
   "id": "0cfefc03",
   "metadata": {},
   "source": [
    "## 4.2.6 Relationships between numerical variables"
   ]
  },
  {
   "cell_type": "code",
   "execution_count": null,
   "id": "20224f71",
   "metadata": {},
   "outputs": [],
   "source": [
    "housing.plot.scatter(x='1stFlrSF', y='SalePrice')"
   ]
  },
  {
   "cell_type": "code",
   "execution_count": null,
   "id": "1c686730",
   "metadata": {},
   "outputs": [],
   "source": [
    "sns.jointplot(x='1stFlrSF', y='SalePrice', data=housing, joint_kws={\"s\":10}):"
   ]
  },
  {
   "cell_type": "code",
   "execution_count": null,
   "id": "7c58bb66",
   "metadata": {},
   "outputs": [],
   "source": [
    "sns.pairplot(housing[numerical_vars[:4]], plot_kws={'s':10});"
   ]
  },
  {
   "cell_type": "code",
   "execution_count": null,
   "id": "dd582a7f",
   "metadata": {},
   "outputs": [],
   "source": [
    "sns.pairplot(housing[['SalePrice']+numerical_vars[:4]], plot_kws={'s':10}):"
   ]
  },
  {
   "cell_type": "code",
   "execution_count": null,
   "id": "99c32eaa",
   "metadata": {},
   "outputs": [],
   "source": [
    "housing[numerical_vars].corr()"
   ]
  },
  {
   "cell_type": "code",
   "execution_count": null,
   "id": "34a1d6c7",
   "metadata": {},
   "outputs": [],
   "source": [
    "housing[numerical_vars].corr()['SalePrice'].sort_values(ascending=False)"
   ]
  },
  {
   "cell_type": "code",
   "execution_count": null,
   "id": "3a27cd2c",
   "metadata": {},
   "outputs": [],
   "source": [
    "correlations = housing[numerical_vars].corr()"
   ]
  },
  {
   "cell_type": "code",
   "execution_count": null,
   "id": "f39cb311",
   "metadata": {},
   "outputs": [],
   "source": [
    "fig, ax =plt.subplots(figsize=(7,5))\n",
    "sns.heatmap(correlations, ax =ax);"
   ]
  },
  {
   "cell_type": "markdown",
   "id": "504f7683",
   "metadata": {},
   "source": [
    "## 4.2.7 Relationships between  variables"
   ]
  },
  {
   "cell_type": "code",
   "execution_count": null,
   "id": "5a4afeb4",
   "metadata": {},
   "outputs": [],
   "source": [
    "sns.boxplot(x='CentralAir', y='SalePrice', data= housing);"
   ]
  },
  {
   "cell_type": "code",
   "execution_count": null,
   "id": "359fd402",
   "metadata": {},
   "outputs": [],
   "source": [
    "fig, ax =plt.subplots(3,3,figsize=(14, 9))\n",
    "for var, subplot in zip(categorical_vars, ax.flatten()):\n",
    "    sns.boxplot(x=var, y='SalePrice', data=housing, ax=subplot)\n",
    "    \n",
    "fig.tight_layout()"
   ]
  },
  {
   "cell_type": "code",
   "execution_count": null,
   "id": "8125e6b7",
   "metadata": {},
   "outputs": [],
   "source": [
    "fig, ax = plt.subplots(figsize=(14,4))\n",
    "sns.boxplot(x='Neighborhood', y='SalePrice', data=housing, ax=ax);"
   ]
  },
  {
   "cell_type": "code",
   "execution_count": null,
   "id": "2dd67ae8",
   "metadata": {},
   "outputs": [],
   "source": [
    "sorted_nb = housing.groupby('Neighborhood')['SalePrice'].median().sort_values().index.values"
   ]
  },
  {
   "cell_type": "code",
   "execution_count": null,
   "id": "1f077aca",
   "metadata": {},
   "outputs": [],
   "source": [
    "fig, ax =plt.subplots(3,3,figsize=(14, 4))\n",
    "sns.boxplt(x='Neighbothood', y='SalePrice', data=housing, order=sorted_nb, ax=ax)\n",
    "plt.xticks(rotation='vertical');"
   ]
  },
  {
   "cell_type": "markdown",
   "id": "f0e4613a",
   "metadata": {},
   "source": [
    "## 4.2.8 More Complex Plot"
   ]
  },
  {
   "cell_type": "code",
   "execution_count": null,
   "id": "cb58692c",
   "metadata": {},
   "outputs": [],
   "source": [
    "conditional_plot =sns.FacetGrid(housing, col='Neighborhood', col_wrap=4)\n",
    "conditional_plot.map(plt.scatter, 'OverallQual', 'SalePrice');"
   ]
  },
  {
   "cell_type": "code",
   "execution_count": null,
   "id": "a4919f49",
   "metadata": {},
   "outputs": [],
   "source": [
    "conditional_plot =sns.FacetGrid(housing, col='YrSold', row='SaleCondition', hue='CentralAir')\n",
    "conditional_plot.map(plt.scatter, 'Age', 'SalePrice').add_legend();"
   ]
  }
 ],
 "metadata": {
  "kernelspec": {
   "display_name": "Python 3",
   "language": "python",
   "name": "python3"
  },
  "language_info": {
   "codemirror_mode": {
    "name": "ipython",
    "version": 3
   },
   "file_extension": ".py",
   "mimetype": "text/x-python",
   "name": "python",
   "nbconvert_exporter": "python",
   "pygments_lexer": "ipython3",
   "version": "3.8.8"
  }
 },
 "nbformat": 4,
 "nbformat_minor": 5
}
