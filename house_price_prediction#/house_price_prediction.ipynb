{
 "cells": [
  {
   "cell_type": "markdown",
   "id": "3c2d51fc",
   "metadata": {},
   "source": [
    "#### The dataset is a training set that I got from Kaggle, it consist lots of data columns all about houses attributes in a certain area. We based our price predictions on the house features such as the central air, lot area, quality, condition, numbers of floors, numbers of bedrooms & age.\n",
    "\n",
    "\n",
    "Here's a brief version of what you'll find in the data description file:\n",
    "\n",
    "    SalePrice - the property's sale price in dollars. This is the target variable that you're trying to predict.\n",
    "    MSSubClass: The building class\n",
    "    MSZoning: The general zoning classification\n",
    "    LotFrontage: Linear feet of street connected to property\n",
    "    LotArea: Lot size in square feet\n",
    "    Street: Type of road access\n",
    "    Alley: Type of alley access\n",
    "    LotShape: General shape of property\n",
    "    LandContour: Flatness of the property\n",
    "    Utilities: Type of utilities available\n",
    "    LotConfig: Lot configuration\n",
    "    LandSlope: Slope of property\n",
    "    Neighborhood: Physical locations within Ames city limits\n",
    "    Condition1: Proximity to main road or railroad\n",
    "    Condition2: Proximity to main road or railroad (if a second is present)\n",
    "    BldgType: Type of dwelling\n",
    "    HouseStyle: Style of dwelling\n",
    "    OverallQual: Overall material and finish quality\n",
    "    OverallCond: Overall condition rating\n",
    "    YearBuilt: Original construction date\n",
    "    YearRemodAdd: Remodel date\n",
    "    RoofStyle: Type of roof\n",
    "    RoofMatl: Roof material\n",
    "    Exterior1st: Exterior covering on house\n",
    "    Exterior2nd: Exterior covering on house (if more than one material)\n",
    "    MasVnrType: Masonry veneer type\n",
    "    MasVnrArea: Masonry veneer area in square feet\n",
    "    ExterQual: Exterior material quality\n",
    "    ExterCond: Present condition of the material on the exterior\n",
    "    Foundation: Type of foundation\n",
    "    BsmtQual: Height of the basement\n",
    "    BsmtCond: General condition of the basement\n",
    "    BsmtExposure: Walkout or garden level basement walls\n",
    "    BsmtFinType1: Quality of basement finished area\n",
    "    BsmtFinSF1: Type 1 finished square feet\n",
    "    BsmtFinType2: Quality of second finished area (if present)\n",
    "    BsmtFinSF2: Type 2 finished square feet\n",
    "    BsmtUnfSF: Unfinished square feet of basement area\n",
    "    TotalBsmtSF: Total square feet of basement area\n",
    "    Heating: Type of heating\n",
    "    HeatingQC: Heating quality and condition\n",
    "    CentralAir: Central air conditioning\n",
    "    Electrical: Electrical system\n",
    "    1stFlrSF: First Floor square feet\n",
    "    2ndFlrSF: Second floor square feet\n",
    "    LowQualFinSF: Low quality finished square feet (all floors)\n",
    "    GrLivArea: Above grade (ground) living area square feet\n",
    "    BsmtFullBath: Basement full bathrooms\n",
    "    BsmtHalfBath: Basement half bathrooms\n",
    "    FullBath: Full bathrooms above grade\n",
    "    HalfBath: Half baths above grade\n",
    "    Bedroom: Number of bedrooms above basement level\n",
    "    Kitchen: Number of kitchens\n",
    "    KitchenQual: Kitchen quality\n",
    "    TotRmsAbvGrd: Total rooms above grade (does not include bathrooms)\n",
    "    Functional: Home functionality rating\n",
    "    Fireplaces: Number of fireplaces\n",
    "    FireplaceQu: Fireplace quality\n",
    "    GarageType: Garage location\n",
    "    GarageYrBlt: Year garage was built\n",
    "    GarageFinish: Interior finish of the garage\n",
    "    GarageCars: Size of garage in car capacity\n",
    "    GarageArea: Size of garage in square feet\n",
    "    GarageQual: Garage quality\n",
    "    GarageCond: Garage condition\n",
    "    PavedDrive: Paved driveway\n",
    "    WoodDeckSF: Wood deck area in square feet\n",
    "    OpenPorchSF: Open porch area in square feet\n",
    "    EnclosedPorch: Enclosed porch area in square feet\n",
    "    3SsnPorch: Three season porch area in square feet\n",
    "    ScreenPorch: Screen porch area in square feet\n",
    "    PoolArea: Pool area in square feet\n",
    "    PoolQC: Pool quality\n",
    "    Fence: Fence quality\n",
    "    MiscFeature: Miscellaneous feature not covered in other categories\n",
    "    MiscVal: $Value of miscellaneous feature\n",
    "    MoSold: Month Sold\n",
    "    YrSold: Year Sold\n",
    "    SaleType: Type of sale\n",
    "    SaleCondition: Condition of sale\n"
   ]
  },
  {
   "cell_type": "code",
   "execution_count": 1,
   "id": "c947d140",
   "metadata": {},
   "outputs": [],
   "source": [
    "import pandas as pd\n",
    "import numpy as np\n",
    "import matplotlib.pyplot as plt\n",
    "%matplotlib inline"
   ]
  },
  {
   "cell_type": "code",
   "execution_count": 2,
   "id": "2997f39e",
   "metadata": {},
   "outputs": [],
   "source": [
    "housing = pd.read_csv('house_train.csv', index_col=0)\n",
    "housing['Age'] = housing['YrSold'] - housing['YearBuilt']"
   ]
  },
  {
   "cell_type": "markdown",
   "id": "0fd8653c",
   "metadata": {},
   "source": [
    "### Getting Neighborhoods with more than 30 observations"
   ]
  },
  {
   "cell_type": "code",
   "execution_count": 3,
   "id": "ee2e8ece",
   "metadata": {},
   "outputs": [],
   "source": [
    "counts = housing['Neighborhood'].value_counts()\n",
    "more_than_30 = list(counts[counts>30].index)\n",
    "housing = housing.loc[housing['Neighborhood'].isin(more_than_30)]"
   ]
  },
  {
   "cell_type": "code",
   "execution_count": 4,
   "id": "e238c7a5",
   "metadata": {},
   "outputs": [],
   "source": [
    "features = ['CentralAir','LotArea','OverallQual','OverallCond','1stFlrSF','2ndFlrSF','BedroomAbvGr','Age']\n",
    "target = ['SalePrice']"
   ]
  },
  {
   "cell_type": "markdown",
   "id": "e61f1ce4",
   "metadata": {},
   "source": [
    "### Transforming Neighborhoods and CentralAir to the one-hot encoding format."
   ]
  },
  {
   "cell_type": "code",
   "execution_count": 5,
   "id": "aaa76265",
   "metadata": {},
   "outputs": [],
   "source": [
    "# Neighborhood\n",
    "dummies_nb = pd.get_dummies(housing['Neighborhood'], drop_first=True)\n",
    "housing = pd.concat([housing, dummies_nb], axis=1)\n",
    "# CentralAir\n",
    "housing['CentralAir'] = housing['CentralAir'].map({'N':0, 'Y':1}).astype(int)"
   ]
  },
  {
   "cell_type": "code",
   "execution_count": 6,
   "id": "36fec817",
   "metadata": {},
   "outputs": [],
   "source": [
    "# Add 'dummies' col to the features list\n",
    "features += list(dummies_nb.columns)"
   ]
  },
  {
   "cell_type": "code",
   "execution_count": 7,
   "id": "a675a7e8",
   "metadata": {},
   "outputs": [],
   "source": [
    "X = housing[features].values # features into 'x'\n",
    "y = housing[target].values # target into 'y'\n",
    "n = housing.shape[0] # number of observation into 'n'"
   ]
  },
  {
   "cell_type": "markdown",
   "id": "b2457be6",
   "metadata": {},
   "source": [
    "### The first prediction mehod is by using the average because it is the simplest model but less accurate."
   ]
  },
  {
   "cell_type": "code",
   "execution_count": 8,
   "id": "3b293d5d",
   "metadata": {},
   "outputs": [
    {
     "data": {
      "text/plain": [
       "180167.63358778626"
      ]
     },
     "execution_count": 8,
     "metadata": {},
     "output_type": "execute_result"
    }
   ],
   "source": [
    "y_mean = np.mean(y)\n",
    "y_mean"
   ]
  },
  {
   "cell_type": "markdown",
   "id": "9c428c86",
   "metadata": {},
   "source": [
    "__Root Mean Square Error__\n",
    " \n",
    " ![title](RMSE_formula.png)\n",
    " \n",
    " * P = observe value\n",
    " * O = predictive value(target-predictive average)\n",
    " * n = number of observation"
   ]
  },
  {
   "cell_type": "code",
   "execution_count": 9,
   "id": "6690ca56",
   "metadata": {},
   "outputs": [
    {
     "data": {
      "text/plain": [
       "78032.94485454109"
      ]
     },
     "execution_count": 9,
     "metadata": {},
     "output_type": "execute_result"
    }
   ],
   "source": [
    "RMSE_null_model = np.sqrt(np.sum((y - y_mean)**2)/n)\n",
    "RMSE_null_model"
   ]
  },
  {
   "cell_type": "markdown",
   "id": "2798bcd2",
   "metadata": {},
   "source": [
    "### The second prediction method is by building  Linear Regression Model"
   ]
  },
  {
   "cell_type": "code",
   "execution_count": 10,
   "id": "0f094fdf",
   "metadata": {},
   "outputs": [],
   "source": [
    "from sklearn.linear_model import LinearRegression"
   ]
  },
  {
   "cell_type": "code",
   "execution_count": 11,
   "id": "008c25d1",
   "metadata": {},
   "outputs": [],
   "source": [
    "regressor = LinearRegression()"
   ]
  },
  {
   "cell_type": "code",
   "execution_count": 12,
   "id": "efc0213b",
   "metadata": {},
   "outputs": [
    {
     "data": {
      "text/plain": [
       "LinearRegression()"
      ]
     },
     "execution_count": 12,
     "metadata": {},
     "output_type": "execute_result"
    }
   ],
   "source": [
    "regressor.fit(X, y)"
   ]
  },
  {
   "cell_type": "code",
   "execution_count": 13,
   "id": "3be49988",
   "metadata": {},
   "outputs": [],
   "source": [
    "housing['predictions'] = regressor.predict(X)"
   ]
  },
  {
   "cell_type": "code",
   "execution_count": 14,
   "id": "972fac64",
   "metadata": {},
   "outputs": [],
   "source": [
    "y_pred = housing['predictions'].values"
   ]
  },
  {
   "cell_type": "code",
   "execution_count": 15,
   "id": "5c6d54a3",
   "metadata": {},
   "outputs": [
    {
     "data": {
      "text/plain": [
       "3803053.149359278"
      ]
     },
     "execution_count": 15,
     "metadata": {},
     "output_type": "execute_result"
    }
   ],
   "source": [
    "RMSE_regressor = np.sqrt(np.sum((y - y_pred)**2)/n)\n",
    "RMSE_regressor"
   ]
  },
  {
   "cell_type": "code",
   "execution_count": 16,
   "id": "9ce23781",
   "metadata": {},
   "outputs": [
    {
     "data": {
      "text/plain": [
       "<AxesSubplot:xlabel='SalePrice', ylabel='predictions'>"
      ]
     },
     "execution_count": 16,
     "metadata": {},
     "output_type": "execute_result"
    },
    {
     "data": {
      "image/png": "[encoded data removed]",
      "text/plain": [
       "<Figure size 432x288 with 1 Axes>"
      ]
     },
     "metadata": {
      "needs_background": "light"
     },
     "output_type": "display_data"
    }
   ],
   "source": [
    "housing.plot.scatter(x='SalePrice', y='predictions')"
   ]
  },
  {
   "cell_type": "markdown",
   "id": "ffd9bee2",
   "metadata": {},
   "source": [
    "This is a positive correlation, but the house prices in the predictions is getting cheaper compare to the SalePrice.\n",
    "\n",
    "We can see that the price gap for the more expensive houses is pretty big."
   ]
  },
  {
   "cell_type": "markdown",
   "id": "a0e618b8",
   "metadata": {},
   "source": [
    "### Make a new predictions for a new house"
   ]
  },
  {
   "cell_type": "code",
   "execution_count": 17,
   "id": "0ed9b041",
   "metadata": {},
   "outputs": [
    {
     "name": "stdout",
     "output_type": "stream",
     "text": [
      "For a house with the following characteristics:\n",
      "\n",
      "CentralAir:1\n",
      "LotArea:12000\n",
      "OverallQual:6\n",
      "OverallCond:6\n",
      "1stFlrSF:1200\n",
      "2ndFlrSF:500\n",
      "BedroomAbvGr:3\n",
      "Age:5\n",
      "Edwards:1\n",
      "\n",
      "The predicted value for the house is : $ 188,455.0\n"
     ]
    }
   ],
   "source": [
    "# Key in the house attributes in numbering formats\n",
    "new_house = np.array([[1,12000,6,6,1200,500,3,5,0,0,1,0,0,0,0,0,0,0,0,0,0,0,0]])\n",
    "prediction = regressor.predict(new_house)\n",
    "print('For a house with the following characteristics:\\n')\n",
    "for feature, feature_value in zip(features, new_house[0]):\n",
    "    if feature_value > 0:\n",
    "        print('{}:{}'.format(feature, feature_value))\n",
    "print('\\nThe predicted value for the house is : $ {:,}'.format(float(np.round(prediction[0]))))"
   ]
  },
  {
   "cell_type": "code",
   "execution_count": null,
   "id": "e29f9ac6",
   "metadata": {},
   "outputs": [],
   "source": []
  }
 ],
 "metadata": {
  "kernelspec": {
   "display_name": "Python 3",
   "language": "python",
   "name": "python3"
  },
  "language_info": {
   "codemirror_mode": {
    "name": "ipython",
    "version": 3
   },
   "file_extension": ".py",
   "mimetype": "text/x-python",
   "name": "python",
   "nbconvert_exporter": "python",
   "pygments_lexer": "ipython3",
   "version": "3.8.8"
  }
 },
 "nbformat": 4,
 "nbformat_minor": 5
}
