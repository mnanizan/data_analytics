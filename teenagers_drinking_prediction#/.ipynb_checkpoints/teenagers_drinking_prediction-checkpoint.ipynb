{
 "cells": [
  {
   "cell_type": "markdown",
   "id": "755196dd",
   "metadata": {},
   "source": [
    "## Students in Portugal dataset- Predicting the Drinking Habits of Teenagers."
   ]
  },
  {
   "cell_type": "markdown",
   "id": "2fd5554b",
   "metadata": {},
   "source": [
    "In this project we use a dataset containing information about Portuguese students from two public schools. This is real world dataset that was collected in order to study alcohol consumption in young people and its effects on students academic performance. The dataset was built from two sources: school reports and questionnaires. In this predictive analysis, we utilized method such as by common categories, Logistic Regression Model & Random Forest Classifier Model."
   ]
  },
  {
   "cell_type": "markdown",
   "id": "af863ac1",
   "metadata": {},
   "source": [
    "Attribute contents:\n",
    "\n",
    "    *1. school - student's school (binary: 'GP' - Gabriel Pereira or 'MS' - Mousinho da Silveira)\n",
    "    *2. sex - student's sex (binary: 'F' - female or 'M' - male)\n",
    "    *3. age - student's age (numeric: from 15 to 22)\n",
    "    *4. address - student's home address type (binary: 'U' - urban or 'R' - rural)\n",
    "    *5. famsize - family size (binary: 'LE3' - less or equal to 3 or 'GT3' - greater than 3)\n",
    "    *6. Pstatus - parent's cohabitation status (binary:'T' - living together or 'A' - apart)\n",
    "    *7. Medu - mother's education (numeric: 0 - none, 1 - primary education (4th grade), 2–5th to 9th  grade, 3 – secondary education or 4 – higher education)\n",
    "    *8. Fedu - father's education (numeric: 0 - none, 1 - primary education (4th grade), 2–5th to 9th grade, 3 – secondary education or 4 – higher education)\n",
    "    *9. Mjob - mother's job (nominal: 'teacher', 'health' care related, civil 'services' (e.g. administrative or police), 'at_home' or 'other')\n",
    "    *10. Fjob - father's job (nominal: 'teacher', 'health' care related, civil 'services' (e.g. administrative or police), 'at_home' or 'other')\n",
    "    *11. reason - reason to choose this school (nominal: close to 'home', school 'reputation', 'course' preference or 'other')\n",
    "    *12. guardian - student's guardian (nominal: 'mother', 'father' or 'other')\n",
    "    *13. traveltime - home to school travel time (numeric: 1 - <15 min., 2-15 to 30 min., 3-30 min. to 1 hour, or 4 - >1 hour)\n",
    "    *14. studytime - weekly study time (numeric: 1 - <2 hours, 2-2 to 5 hours, 3-5 to 10 hours, or 4 - >10 hours)\n",
    "    *15. failures - number of past class failures (numeric: n if 1<=n<3, else 4)\n",
    "    *16. schoolsup - extra educational support (binary: yes or no)\n",
    "    *17. famsup - family educational support (binary: yes or no)\n",
    "    *18. paid - extra paid classes within the course subject (Math or Portuguese) (binary: yes or no)\n",
    "    *19. activities - extra-curricular activities (binary: yes or no)\n",
    "    *20. nursery - attended nursery school (binary: yes or no)\n",
    "    *21. higher - wants to take higher education (binary: yes or no)\n",
    "    *22. internet - Internet access at home (binary: yes or no)\n",
    "    *23. romantic - with a romantic relationship (binary: yes or no)\n",
    "    *24. famrel - quality of family relationships (numeric: from 1 - very bad to 5 - excellent)\n",
    "    *25. freetime - free time after school (numeric: from 1 - very low to 5 - very high)\n",
    "    *26. goout - going out with friends (numeric: from 1 - very low to 5 - very high)\n",
    "    *27. Dalc - workday alcohol consumption (numeric: from 1 - very low to 5 - very high)\n",
    "    *27. Walc - weekend alcohol consumption (numeric: from 1 - very low to 5 - very high)\n",
    "    *29. health - current health status (numeric: from 1 - very bad to 5 - very good)\n",
    "    *30. absences - number of school absences (numeric: from 0 to 93)\n",
    "\n",
    "These grades are related with the course subject, Math or Portuguese:\n",
    "\n",
    "    *31 G1 - first period grade (numeric: from 0 to 20)\n",
    "    *32 G2 - second period grade (numeric: from 0 to 20)\n",
    "    *33 G3 - final grade (numeric: from 0 to 20, output target)\n"
   ]
  },
  {
   "cell_type": "markdown",
   "id": "22acf2fe",
   "metadata": {},
   "source": [
    "## Students in Portugal dataset- Predicting the Drinking Habits of Teenagers."
   ]
  },
  {
   "cell_type": "code",
   "execution_count": 1,
   "id": "2db917e7",
   "metadata": {},
   "outputs": [],
   "source": [
    "import pandas as pd\n",
    "import numpy as np\n",
    "%matplotlib inline"
   ]
  },
  {
   "cell_type": "code",
   "execution_count": 4,
   "id": "283cc776",
   "metadata": {},
   "outputs": [],
   "source": [
    "student = pd.read_csv('student-por.csv')\n",
    "student.rename(columns={'sex':'gender'}, inplace=True)\n",
    "student['alcohol_index'] = (5*student['Dalc'] + 2*student['Walc'])/7\n",
    "# Alcohol Consumption Level\n",
    "student['acl'] = student['alcohol_index'] <= 2\n",
    "student['acl'] = student['acl'].map({True: 'Low', False: 'High'})"
   ]
  },
  {
   "cell_type": "code",
   "execution_count": 5,
   "id": "0c7aad71",
   "metadata": {},
   "outputs": [
    {
     "data": {
      "text/html": [
       "<div>\n",
       "<style scoped>\n",
       "    .dataframe tbody tr th:only-of-type {\n",
       "        vertical-align: middle;\n",
       "    }\n",
       "\n",
       "    .dataframe tbody tr th {\n",
       "        vertical-align: top;\n",
       "    }\n",
       "\n",
       "    .dataframe thead th {\n",
       "        text-align: right;\n",
       "    }\n",
       "</style>\n",
       "<table border=\"1\" class=\"dataframe\">\n",
       "  <thead>\n",
       "    <tr style=\"text-align: right;\">\n",
       "      <th></th>\n",
       "      <th>school</th>\n",
       "      <th>gender</th>\n",
       "      <th>age</th>\n",
       "      <th>address</th>\n",
       "      <th>famsize</th>\n",
       "      <th>Pstatus</th>\n",
       "      <th>Medu</th>\n",
       "      <th>Fedu</th>\n",
       "      <th>Mjob</th>\n",
       "      <th>Fjob</th>\n",
       "      <th>...</th>\n",
       "      <th>goout</th>\n",
       "      <th>Dalc</th>\n",
       "      <th>Walc</th>\n",
       "      <th>health</th>\n",
       "      <th>absences</th>\n",
       "      <th>G1</th>\n",
       "      <th>G2</th>\n",
       "      <th>G3</th>\n",
       "      <th>alcohol_index</th>\n",
       "      <th>acl</th>\n",
       "    </tr>\n",
       "  </thead>\n",
       "  <tbody>\n",
       "    <tr>\n",
       "      <th>0</th>\n",
       "      <td>GP</td>\n",
       "      <td>F</td>\n",
       "      <td>18</td>\n",
       "      <td>U</td>\n",
       "      <td>GT3</td>\n",
       "      <td>A</td>\n",
       "      <td>4</td>\n",
       "      <td>4</td>\n",
       "      <td>at_home</td>\n",
       "      <td>teacher</td>\n",
       "      <td>...</td>\n",
       "      <td>4</td>\n",
       "      <td>1</td>\n",
       "      <td>1</td>\n",
       "      <td>3</td>\n",
       "      <td>4</td>\n",
       "      <td>0</td>\n",
       "      <td>11</td>\n",
       "      <td>11</td>\n",
       "      <td>1.000000</td>\n",
       "      <td>Low</td>\n",
       "    </tr>\n",
       "    <tr>\n",
       "      <th>1</th>\n",
       "      <td>GP</td>\n",
       "      <td>F</td>\n",
       "      <td>17</td>\n",
       "      <td>U</td>\n",
       "      <td>GT3</td>\n",
       "      <td>T</td>\n",
       "      <td>1</td>\n",
       "      <td>1</td>\n",
       "      <td>at_home</td>\n",
       "      <td>other</td>\n",
       "      <td>...</td>\n",
       "      <td>3</td>\n",
       "      <td>1</td>\n",
       "      <td>1</td>\n",
       "      <td>3</td>\n",
       "      <td>2</td>\n",
       "      <td>9</td>\n",
       "      <td>11</td>\n",
       "      <td>11</td>\n",
       "      <td>1.000000</td>\n",
       "      <td>Low</td>\n",
       "    </tr>\n",
       "    <tr>\n",
       "      <th>2</th>\n",
       "      <td>GP</td>\n",
       "      <td>F</td>\n",
       "      <td>15</td>\n",
       "      <td>U</td>\n",
       "      <td>LE3</td>\n",
       "      <td>T</td>\n",
       "      <td>1</td>\n",
       "      <td>1</td>\n",
       "      <td>at_home</td>\n",
       "      <td>other</td>\n",
       "      <td>...</td>\n",
       "      <td>2</td>\n",
       "      <td>2</td>\n",
       "      <td>3</td>\n",
       "      <td>3</td>\n",
       "      <td>6</td>\n",
       "      <td>12</td>\n",
       "      <td>13</td>\n",
       "      <td>12</td>\n",
       "      <td>2.285714</td>\n",
       "      <td>High</td>\n",
       "    </tr>\n",
       "    <tr>\n",
       "      <th>3</th>\n",
       "      <td>GP</td>\n",
       "      <td>F</td>\n",
       "      <td>15</td>\n",
       "      <td>U</td>\n",
       "      <td>GT3</td>\n",
       "      <td>T</td>\n",
       "      <td>4</td>\n",
       "      <td>2</td>\n",
       "      <td>health</td>\n",
       "      <td>services</td>\n",
       "      <td>...</td>\n",
       "      <td>2</td>\n",
       "      <td>1</td>\n",
       "      <td>1</td>\n",
       "      <td>5</td>\n",
       "      <td>0</td>\n",
       "      <td>14</td>\n",
       "      <td>14</td>\n",
       "      <td>14</td>\n",
       "      <td>1.000000</td>\n",
       "      <td>Low</td>\n",
       "    </tr>\n",
       "    <tr>\n",
       "      <th>4</th>\n",
       "      <td>GP</td>\n",
       "      <td>F</td>\n",
       "      <td>16</td>\n",
       "      <td>U</td>\n",
       "      <td>GT3</td>\n",
       "      <td>T</td>\n",
       "      <td>3</td>\n",
       "      <td>3</td>\n",
       "      <td>other</td>\n",
       "      <td>other</td>\n",
       "      <td>...</td>\n",
       "      <td>2</td>\n",
       "      <td>1</td>\n",
       "      <td>2</td>\n",
       "      <td>5</td>\n",
       "      <td>0</td>\n",
       "      <td>11</td>\n",
       "      <td>13</td>\n",
       "      <td>13</td>\n",
       "      <td>1.285714</td>\n",
       "      <td>Low</td>\n",
       "    </tr>\n",
       "  </tbody>\n",
       "</table>\n",
       "<p>5 rows × 35 columns</p>\n",
       "</div>"
      ],
      "text/plain": [
       "  school gender  age address famsize Pstatus  Medu  Fedu     Mjob      Fjob  \\\n",
       "0     GP      F   18       U     GT3       A     4     4  at_home   teacher   \n",
       "1     GP      F   17       U     GT3       T     1     1  at_home     other   \n",
       "2     GP      F   15       U     LE3       T     1     1  at_home     other   \n",
       "3     GP      F   15       U     GT3       T     4     2   health  services   \n",
       "4     GP      F   16       U     GT3       T     3     3    other     other   \n",
       "\n",
       "   ... goout Dalc  Walc  health  absences  G1  G2  G3 alcohol_index   acl  \n",
       "0  ...     4    1     1       3         4   0  11  11      1.000000   Low  \n",
       "1  ...     3    1     1       3         2   9  11  11      1.000000   Low  \n",
       "2  ...     2    2     3       3         6  12  13  12      2.285714  High  \n",
       "3  ...     2    1     1       5         0  14  14  14      1.000000   Low  \n",
       "4  ...     2    1     2       5         0  11  13  13      1.285714   Low  \n",
       "\n",
       "[5 rows x 35 columns]"
      ]
     },
     "execution_count": 5,
     "metadata": {},
     "output_type": "execute_result"
    }
   ],
   "source": [
    "student.head()"
   ]
  },
  {
   "cell_type": "code",
   "execution_count": 6,
   "id": "cbc469ed",
   "metadata": {},
   "outputs": [],
   "source": [
    "features = ['gender','famsize','age','studytime','famrel','goout','freetime','G3']\n",
    "target = ['acl']"
   ]
  },
  {
   "cell_type": "markdown",
   "id": "a4a53394",
   "metadata": {},
   "source": [
    "### Important: Scikit-Learn only understand numbers!\n",
    "\n",
    "This is why we need to create what are called 'dummy' features or one-hot encoded features."
   ]
  },
  {
   "cell_type": "code",
   "execution_count": 7,
   "id": "cf2be6d3",
   "metadata": {},
   "outputs": [],
   "source": [
    "# For gender: Female will be 0, Male will be 1\n",
    "student['gender'] = student['gender'].map({'F':0, 'M':1}).astype(int)\n",
    "# For famsize: 'LE3' less or equal to 3 will be 0. 'GT3' greaterthan 3 will be 1\n",
    "student['famsize'] = student['famsize'].map({'LE3':0, 'GT3':1}).astype(int)\n",
    "# For acl: 'Low will be 0, 'High' will be 1\n",
    "student['acl'] = student['acl'].map({'Low':0, 'High':1}).astype(int)"
   ]
  },
  {
   "cell_type": "code",
   "execution_count": 8,
   "id": "96183bd2",
   "metadata": {},
   "outputs": [],
   "source": [
    "X = student[features].values\n",
    "Y = student[target].values"
   ]
  },
  {
   "cell_type": "markdown",
   "id": "b7d4f6ac",
   "metadata": {},
   "source": [
    "### Method 1: Predict the most common category"
   ]
  },
  {
   "cell_type": "code",
   "execution_count": 9,
   "id": "c23c3ec3",
   "metadata": {},
   "outputs": [
    {
     "data": {
      "text/plain": [
       "0    0.744222\n",
       "1    0.255778\n",
       "Name: acl, dtype: float64"
      ]
     },
     "execution_count": 9,
     "metadata": {},
     "output_type": "execute_result"
    }
   ],
   "source": [
    "student['acl'].value_counts(normalize=True)"
   ]
  },
  {
   "cell_type": "markdown",
   "id": "599fe627",
   "metadata": {},
   "source": [
    "### Method 2: Logistic Regression Model\n",
    "\n",
    "The logistic regression is a model that uses the features to calculate the probability of the target variable to belong to the 'positive class' (target value being equal to 1"
   ]
  },
  {
   "cell_type": "code",
   "execution_count": 10,
   "id": "b8b0f362",
   "metadata": {},
   "outputs": [],
   "source": [
    "from sklearn.linear_model import LogisticRegression"
   ]
  },
  {
   "cell_type": "code",
   "execution_count": 11,
   "id": "f5dbfba9",
   "metadata": {},
   "outputs": [],
   "source": [
    "student_classifier_logreg = LogisticRegression(C=2)"
   ]
  },
  {
   "cell_type": "code",
   "execution_count": 12,
   "id": "a3c74743",
   "metadata": {},
   "outputs": [
    {
     "name": "stderr",
     "output_type": "stream",
     "text": [
      "C:\\Users\\anizan\\anaconda3\\lib\\site-packages\\sklearn\\utils\\validation.py:63: DataConversionWarning: A column-vector y was passed when a 1d array was expected. Please change the shape of y to (n_samples, ), for example using ravel().\n",
      "  return f(*args, **kwargs)\n"
     ]
    },
    {
     "data": {
      "text/plain": [
       "LogisticRegression(C=2)"
      ]
     },
     "execution_count": 12,
     "metadata": {},
     "output_type": "execute_result"
    }
   ],
   "source": [
    "student_classifier_logreg.fit(X,Y)"
   ]
  },
  {
   "cell_type": "markdown",
   "id": "eba7ba9d",
   "metadata": {},
   "source": [
    "### Model Evaluation"
   ]
  },
  {
   "cell_type": "code",
   "execution_count": 13,
   "id": "d9138fd2",
   "metadata": {},
   "outputs": [],
   "source": [
    "student['predictions_logreg'] = student_classifier_logreg.predict(X)"
   ]
  },
  {
   "cell_type": "code",
   "execution_count": 14,
   "id": "197ced2a",
   "metadata": {},
   "outputs": [
    {
     "data": {
      "text/html": [
       "<div>\n",
       "<style scoped>\n",
       "    .dataframe tbody tr th:only-of-type {\n",
       "        vertical-align: middle;\n",
       "    }\n",
       "\n",
       "    .dataframe tbody tr th {\n",
       "        vertical-align: top;\n",
       "    }\n",
       "\n",
       "    .dataframe thead th {\n",
       "        text-align: right;\n",
       "    }\n",
       "</style>\n",
       "<table border=\"1\" class=\"dataframe\">\n",
       "  <thead>\n",
       "    <tr style=\"text-align: right;\">\n",
       "      <th>acl</th>\n",
       "      <th>0</th>\n",
       "      <th>1</th>\n",
       "    </tr>\n",
       "    <tr>\n",
       "      <th>predictions_logreg</th>\n",
       "      <th></th>\n",
       "      <th></th>\n",
       "    </tr>\n",
       "  </thead>\n",
       "  <tbody>\n",
       "    <tr>\n",
       "      <th>0</th>\n",
       "      <td>452</td>\n",
       "      <td>105</td>\n",
       "    </tr>\n",
       "    <tr>\n",
       "      <th>1</th>\n",
       "      <td>31</td>\n",
       "      <td>61</td>\n",
       "    </tr>\n",
       "  </tbody>\n",
       "</table>\n",
       "</div>"
      ],
      "text/plain": [
       "acl                   0    1\n",
       "predictions_logreg          \n",
       "0                   452  105\n",
       "1                    31   61"
      ]
     },
     "execution_count": 14,
     "metadata": {},
     "output_type": "execute_result"
    }
   ],
   "source": [
    "confusion_matrix = pd.crosstab(student['predictions_logreg'], student['acl'])\n",
    "confusion_matrix"
   ]
  },
  {
   "cell_type": "markdown",
   "id": "e54df55d",
   "metadata": {},
   "source": [
    "### Accuracy of Logistic Regression"
   ]
  },
  {
   "cell_type": "code",
   "execution_count": 15,
   "id": "0886613f",
   "metadata": {},
   "outputs": [
    {
     "name": "stdout",
     "output_type": "stream",
     "text": [
      "Accuracy: 0.7904468412942989\n"
     ]
    }
   ],
   "source": [
    "ac = (confusion_matrix.iloc[0,0] + confusion_matrix.iloc[1,1])/student.shape[0]\n",
    "print('Accuracy: {}'.format(ac))"
   ]
  },
  {
   "cell_type": "markdown",
   "id": "ef452d13",
   "metadata": {},
   "source": [
    "### Method 3: Random Forest Classifier Model"
   ]
  },
  {
   "cell_type": "code",
   "execution_count": 16,
   "id": "f80a0f42",
   "metadata": {},
   "outputs": [],
   "source": [
    "from sklearn.ensemble import RandomForestClassifier"
   ]
  },
  {
   "cell_type": "code",
   "execution_count": 17,
   "id": "fdcfc094",
   "metadata": {},
   "outputs": [],
   "source": [
    "student_classifier_rf = RandomForestClassifier()"
   ]
  },
  {
   "cell_type": "code",
   "execution_count": 18,
   "id": "3986d042",
   "metadata": {},
   "outputs": [
    {
     "name": "stderr",
     "output_type": "stream",
     "text": [
      "<ipython-input-18-07a0da914a53>:1: DataConversionWarning: A column-vector y was passed when a 1d array was expected. Please change the shape of y to (n_samples,), for example using ravel().\n",
      "  student_classifier_rf.fit(X,Y)\n"
     ]
    }
   ],
   "source": [
    "student_classifier_rf.fit(X,Y)\n",
    "student['predictions_rf'] = student_classifier_rf.predict(X)"
   ]
  },
  {
   "cell_type": "code",
   "execution_count": 19,
   "id": "23c763cf",
   "metadata": {},
   "outputs": [
    {
     "data": {
      "text/html": [
       "<div>\n",
       "<style scoped>\n",
       "    .dataframe tbody tr th:only-of-type {\n",
       "        vertical-align: middle;\n",
       "    }\n",
       "\n",
       "    .dataframe tbody tr th {\n",
       "        vertical-align: top;\n",
       "    }\n",
       "\n",
       "    .dataframe thead th {\n",
       "        text-align: right;\n",
       "    }\n",
       "</style>\n",
       "<table border=\"1\" class=\"dataframe\">\n",
       "  <thead>\n",
       "    <tr style=\"text-align: right;\">\n",
       "      <th>acl</th>\n",
       "      <th>0</th>\n",
       "      <th>1</th>\n",
       "    </tr>\n",
       "    <tr>\n",
       "      <th>predictions_rf</th>\n",
       "      <th></th>\n",
       "      <th></th>\n",
       "    </tr>\n",
       "  </thead>\n",
       "  <tbody>\n",
       "    <tr>\n",
       "      <th>0</th>\n",
       "      <td>482</td>\n",
       "      <td>3</td>\n",
       "    </tr>\n",
       "    <tr>\n",
       "      <th>1</th>\n",
       "      <td>1</td>\n",
       "      <td>163</td>\n",
       "    </tr>\n",
       "  </tbody>\n",
       "</table>\n",
       "</div>"
      ],
      "text/plain": [
       "acl               0    1\n",
       "predictions_rf          \n",
       "0               482    3\n",
       "1                 1  163"
      ]
     },
     "execution_count": 19,
     "metadata": {},
     "output_type": "execute_result"
    }
   ],
   "source": [
    "confusion_matrix = pd.crosstab(student['predictions_rf'], student['acl'])\n",
    "confusion_matrix"
   ]
  },
  {
   "cell_type": "markdown",
   "id": "af34b903",
   "metadata": {},
   "source": [
    "### Accuracy of Random Forest Classifier Model"
   ]
  },
  {
   "cell_type": "code",
   "execution_count": 20,
   "id": "31d2c9c2",
   "metadata": {},
   "outputs": [
    {
     "name": "stdout",
     "output_type": "stream",
     "text": [
      "Accuracy: 0.9938366718027735\n"
     ]
    }
   ],
   "source": [
    "ac = (confusion_matrix.iloc[0,0] + confusion_matrix.iloc[1,1])/student.shape[0]\n",
    "print('Accuracy: {}'.format(ac))"
   ]
  },
  {
   "cell_type": "markdown",
   "id": "f85715e1",
   "metadata": {},
   "source": [
    "### Simpified syntax by using Random Forest Classifier Model"
   ]
  },
  {
   "cell_type": "code",
   "execution_count": 21,
   "id": "2253e75d",
   "metadata": {},
   "outputs": [
    {
     "name": "stdout",
     "output_type": "stream",
     "text": [
      "The model predicts that the student belongs to the: \n",
      "Low alcohol consumption group\n"
     ]
    }
   ],
   "source": [
    "# ['gender','famsize','age','studytime','famrel','goout','freetime','G3']\n",
    "# We predict the outcome based on the attibutes & behaviours from the past data pattern.\n",
    "new_student = np.array([[1,1,18,2,1,5,5,13]])\n",
    "predictions = student_classifier_rf.predict(new_student)\n",
    "print('The model predicts that the student belongs to the: ')\n",
    "if predictions == 1:\n",
    "    print('High alcohol consumption group')\n",
    "else: \n",
    "    print('Low alcohol consumption group')"
   ]
  },
  {
   "cell_type": "code",
   "execution_count": null,
   "id": "0d979930",
   "metadata": {},
   "outputs": [],
   "source": []
  }
 ],
 "metadata": {
  "kernelspec": {
   "display_name": "Python 3",
   "language": "python",
   "name": "python3"
  },
  "language_info": {
   "codemirror_mode": {
    "name": "ipython",
    "version": 3
   },
   "file_extension": ".py",
   "mimetype": "text/x-python",
   "name": "python",
   "nbconvert_exporter": "python",
   "pygments_lexer": "ipython3",
   "version": "3.8.8"
  }
 },
 "nbformat": 4,
 "nbformat_minor": 5
}
