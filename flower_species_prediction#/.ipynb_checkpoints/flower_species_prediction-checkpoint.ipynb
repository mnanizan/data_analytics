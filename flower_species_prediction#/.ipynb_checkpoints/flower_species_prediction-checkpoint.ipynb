{
 "cells": [
  {
   "cell_type": "markdown",
   "id": "ef6bb988",
   "metadata": {},
   "source": [
    "# Iris dataset - Predicting Flower Species based on its Measurement Features."
   ]
  },
  {
   "cell_type": "markdown",
   "id": "748dbb41",
   "metadata": {},
   "source": [
    "This is a prediction analysis for iris dataset which is a built-in flower species data in the library. We utilize the flower measurement features in the dataset to predict the other flower(new_flower1 or 2) species type by using estimators in the Scikit-Learn library."
   ]
  },
  {
   "cell_type": "code",
   "execution_count": 1,
   "id": "f3b7015b",
   "metadata": {},
   "outputs": [],
   "source": [
    "from sklearn import datasets\n",
    "import pandas as pd\n",
    "import numpy as np"
   ]
  },
  {
   "cell_type": "code",
   "execution_count": 18,
   "id": "5ba73cfd",
   "metadata": {},
   "outputs": [],
   "source": [
    "# We use built in data in the library called as 'iris'\n",
    "iris = datasets.load_iris()\n",
    "iris_features = iris.data\n",
    "# We set the iris 'features' column to be the 'target' column\n",
    "iris_target = iris.target"
   ]
  },
  {
   "cell_type": "code",
   "execution_count": 20,
   "id": "e7a7bc43",
   "metadata": {},
   "outputs": [
    {
     "data": {
      "text/html": [
       "<div>\n",
       "<style scoped>\n",
       "    .dataframe tbody tr th:only-of-type {\n",
       "        vertical-align: middle;\n",
       "    }\n",
       "\n",
       "    .dataframe tbody tr th {\n",
       "        vertical-align: top;\n",
       "    }\n",
       "\n",
       "    .dataframe thead th {\n",
       "        text-align: right;\n",
       "    }\n",
       "</style>\n",
       "<table border=\"1\" class=\"dataframe\">\n",
       "  <thead>\n",
       "    <tr style=\"text-align: right;\">\n",
       "      <th></th>\n",
       "      <th>sepal length (cm)</th>\n",
       "      <th>sepal width (cm)</th>\n",
       "      <th>petal length (cm)</th>\n",
       "      <th>petal width (cm)</th>\n",
       "      <th>target</th>\n",
       "    </tr>\n",
       "  </thead>\n",
       "  <tbody>\n",
       "    <tr>\n",
       "      <th>0</th>\n",
       "      <td>5.1</td>\n",
       "      <td>3.5</td>\n",
       "      <td>1.4</td>\n",
       "      <td>0.2</td>\n",
       "      <td>setosa</td>\n",
       "    </tr>\n",
       "    <tr>\n",
       "      <th>1</th>\n",
       "      <td>4.9</td>\n",
       "      <td>3.0</td>\n",
       "      <td>1.4</td>\n",
       "      <td>0.2</td>\n",
       "      <td>setosa</td>\n",
       "    </tr>\n",
       "    <tr>\n",
       "      <th>2</th>\n",
       "      <td>4.7</td>\n",
       "      <td>3.2</td>\n",
       "      <td>1.3</td>\n",
       "      <td>0.2</td>\n",
       "      <td>setosa</td>\n",
       "    </tr>\n",
       "    <tr>\n",
       "      <th>3</th>\n",
       "      <td>4.6</td>\n",
       "      <td>3.1</td>\n",
       "      <td>1.5</td>\n",
       "      <td>0.2</td>\n",
       "      <td>setosa</td>\n",
       "    </tr>\n",
       "    <tr>\n",
       "      <th>4</th>\n",
       "      <td>5.0</td>\n",
       "      <td>3.6</td>\n",
       "      <td>1.4</td>\n",
       "      <td>0.2</td>\n",
       "      <td>setosa</td>\n",
       "    </tr>\n",
       "  </tbody>\n",
       "</table>\n",
       "</div>"
      ],
      "text/plain": [
       "   sepal length (cm)  sepal width (cm)  petal length (cm)  petal width (cm)  \\\n",
       "0                5.1               3.5                1.4               0.2   \n",
       "1                4.9               3.0                1.4               0.2   \n",
       "2                4.7               3.2                1.3               0.2   \n",
       "3                4.6               3.1                1.5               0.2   \n",
       "4                5.0               3.6                1.4               0.2   \n",
       "\n",
       "   target  \n",
       "0  setosa  \n",
       "1  setosa  \n",
       "2  setosa  \n",
       "3  setosa  \n",
       "4  setosa  "
      ]
     },
     "execution_count": 20,
     "metadata": {},
     "output_type": "execute_result"
    }
   ],
   "source": [
    "iris_df = pd.DataFrame(data=iris.data, columns=iris.feature_names)\n",
    "# We set the 'target' data column as a base for prediction\n",
    "iris_df['target'] = iris.target_names[iris.target]\n",
    "iris_df.head()"
   ]
  },
  {
   "cell_type": "code",
   "execution_count": 4,
   "id": "b87f65b0",
   "metadata": {},
   "outputs": [
    {
     "data": {
      "text/plain": [
       "array(['setosa', 'versicolor', 'virginica'], dtype='<U10')"
      ]
     },
     "execution_count": 4,
     "metadata": {},
     "output_type": "execute_result"
    }
   ],
   "source": [
    "iris.target_names"
   ]
  },
  {
   "cell_type": "markdown",
   "id": "c543cd05",
   "metadata": {},
   "source": [
    "> We will do __classification__ problem by predicting the flower species using its features."
   ]
  },
  {
   "cell_type": "markdown",
   "id": "289a8081",
   "metadata": {},
   "source": [
    "## Estimators objects\n",
    "\n",
    "The main API implemented by Scikit-Learn is that of the estimator. An estimator is the object that contains the model that we can use to learn from data."
   ]
  },
  {
   "cell_type": "markdown",
   "id": "ab1f5bd7",
   "metadata": {},
   "source": [
    "### Import the estimator (model)"
   ]
  },
  {
   "cell_type": "code",
   "execution_count": 6,
   "id": "f5e1b93c",
   "metadata": {},
   "outputs": [],
   "source": [
    "from sklearn.neighbors import KNeighborsClassifier"
   ]
  },
  {
   "cell_type": "markdown",
   "id": "95736373",
   "metadata": {},
   "source": [
    "###  Create an instance of the estimator"
   ]
  },
  {
   "cell_type": "code",
   "execution_count": 7,
   "id": "9490b988",
   "metadata": {},
   "outputs": [],
   "source": [
    "flower_classifier = KNeighborsClassifier(n_neighbors=3)"
   ]
  },
  {
   "cell_type": "markdown",
   "id": "c09b1728",
   "metadata": {},
   "source": [
    "### Use the data to train the estimator"
   ]
  },
  {
   "cell_type": "markdown",
   "id": "055a4329",
   "metadata": {},
   "source": [
    "Notes:\n",
    "    \n",
    "   > Scikit-Learn only accepts numbers.\n",
    "    \n",
    "   > The object containing the features must be a two dimensional np.array"
   ]
  },
  {
   "cell_type": "code",
   "execution_count": 8,
   "id": "d67ef14d",
   "metadata": {},
   "outputs": [
    {
     "data": {
      "text/plain": [
       "array([[5.1, 3.5, 1.4, 0.2],\n",
       "       [4.9, 3. , 1.4, 0.2],\n",
       "       [4.7, 3.2, 1.3, 0.2],\n",
       "       [4.6, 3.1, 1.5, 0.2],\n",
       "       [5. , 3.6, 1.4, 0.2],\n",
       "       [5.4, 3.9, 1.7, 0.4],\n",
       "       [4.6, 3.4, 1.4, 0.3],\n",
       "       [5. , 3.4, 1.5, 0.2],\n",
       "       [4.4, 2.9, 1.4, 0.2],\n",
       "       [4.9, 3.1, 1.5, 0.1]])"
      ]
     },
     "execution_count": 8,
     "metadata": {},
     "output_type": "execute_result"
    }
   ],
   "source": [
    "iris_features[:10,:]"
   ]
  },
  {
   "cell_type": "code",
   "execution_count": 9,
   "id": "cf31f5b3",
   "metadata": {},
   "outputs": [
    {
     "data": {
      "text/plain": [
       "array([0, 0, 0, 0, 0, 0, 0, 0, 0, 0, 0, 0, 0, 0, 0, 0, 0, 0, 0, 0, 0, 0,\n",
       "       0, 0, 0, 0, 0, 0, 0, 0, 0, 0, 0, 0, 0, 0, 0, 0, 0, 0, 0, 0, 0, 0,\n",
       "       0, 0, 0, 0, 0, 0, 1, 1, 1, 1, 1, 1, 1, 1, 1, 1, 1, 1, 1, 1, 1, 1,\n",
       "       1, 1, 1, 1, 1, 1, 1, 1, 1, 1, 1, 1, 1, 1, 1, 1, 1, 1, 1, 1, 1, 1,\n",
       "       1, 1, 1, 1, 1, 1, 1, 1, 1, 1, 1, 1, 2, 2, 2, 2, 2, 2, 2, 2, 2, 2,\n",
       "       2, 2, 2, 2, 2, 2, 2, 2, 2, 2, 2, 2, 2, 2, 2, 2, 2, 2, 2, 2, 2, 2,\n",
       "       2, 2, 2, 2, 2, 2, 2, 2, 2, 2, 2, 2, 2, 2, 2, 2, 2, 2])"
      ]
     },
     "execution_count": 9,
     "metadata": {},
     "output_type": "execute_result"
    }
   ],
   "source": [
    "iris_target"
   ]
  },
  {
   "cell_type": "markdown",
   "id": "78e1b4d0",
   "metadata": {},
   "source": [
    "0 ==> sentosa\n",
    "\n",
    "1 ==> versicolor\n",
    "\n",
    "2 ==> virginica"
   ]
  },
  {
   "cell_type": "code",
   "execution_count": 11,
   "id": "f4a40680",
   "metadata": {},
   "outputs": [
    {
     "data": {
      "text/plain": [
       "KNeighborsClassifier(n_neighbors=3)"
      ]
     },
     "execution_count": 11,
     "metadata": {},
     "output_type": "execute_result"
    }
   ],
   "source": [
    "# X must be capital letter\n",
    "flower_classifier.fit(X=iris_features, y=iris_target)"
   ]
  },
  {
   "cell_type": "markdown",
   "id": "f824f1c9",
   "metadata": {},
   "source": [
    "### Use the data to make 'predictions'"
   ]
  },
  {
   "cell_type": "code",
   "execution_count": 13,
   "id": "7ff4244e",
   "metadata": {},
   "outputs": [],
   "source": [
    "# The features must be two-dimensional array\n",
    "# The prediction is based on the sized of the flower measurement features.\n",
    "# sepal length (cm), sepal width (cm), petal length (cm), petal width (cm)\n",
    "new_flower1 = np.array([[5.1, 3.0, 1.1,0.5]]) # the measurements for the new flower1 features.\n",
    "new_flower2 = np.array([[10.0, 4.9, 6.5, 2.1]])# the measurements for the new flower2 features."
   ]
  },
  {
   "cell_type": "markdown",
   "id": "72e7ecf7",
   "metadata": {},
   "source": [
    "0 ==> sentosa\n",
    "\n",
    "1 ==> versicolor\n",
    "\n",
    "2 ==> virginica"
   ]
  },
  {
   "cell_type": "code",
   "execution_count": 14,
   "id": "e056e9d7",
   "metadata": {},
   "outputs": [
    {
     "data": {
      "text/plain": [
       "array([0])"
      ]
     },
     "execution_count": 14,
     "metadata": {},
     "output_type": "execute_result"
    }
   ],
   "source": [
    "flower_classifier.predict(new_flower1)"
   ]
  },
  {
   "cell_type": "markdown",
   "id": "e46fbd61",
   "metadata": {},
   "source": [
    "The new_flower1 is a a flower species of sentosa"
   ]
  },
  {
   "cell_type": "code",
   "execution_count": 16,
   "id": "27a7c6dd",
   "metadata": {},
   "outputs": [
    {
     "data": {
      "text/plain": [
       "array([2])"
      ]
     },
     "execution_count": 16,
     "metadata": {},
     "output_type": "execute_result"
    }
   ],
   "source": [
    "flower_classifier.predict(new_flower2)"
   ]
  },
  {
   "cell_type": "markdown",
   "id": "56f7c9aa",
   "metadata": {},
   "source": [
    "The new_flower2 is a a flower species of virgina"
   ]
  },
  {
   "cell_type": "code",
   "execution_count": 22,
   "id": "01260eba",
   "metadata": {},
   "outputs": [
    {
     "data": {
      "text/plain": [
       "array([0, 1, 2])"
      ]
     },
     "execution_count": 22,
     "metadata": {},
     "output_type": "execute_result"
    }
   ],
   "source": [
    "# Same purpose as few cell rows above, but in shorter syntax\n",
    "new_flowers = np.array([[5.1, 3.0, 1.1,0.5],[6.0, 2.9, 4.5,1.1],[10.0,4.5,3.2,2.5]])\n",
    "predictions = flower_classifier.predict(new_flowers)\n",
    "predictions"
   ]
  },
  {
   "cell_type": "markdown",
   "id": "1e2c90af",
   "metadata": {},
   "source": [
    "The new_flowers are flower species of sentosa,versicolor & virginica"
   ]
  },
  {
   "cell_type": "code",
   "execution_count": null,
   "id": "e49b8814",
   "metadata": {},
   "outputs": [],
   "source": []
  }
 ],
 "metadata": {
  "kernelspec": {
   "display_name": "Python 3",
   "language": "python",
   "name": "python3"
  },
  "language_info": {
   "codemirror_mode": {
    "name": "ipython",
    "version": 3
   },
   "file_extension": ".py",
   "mimetype": "text/x-python",
   "name": "python",
   "nbconvert_exporter": "python",
   "pygments_lexer": "ipython3",
   "version": "3.8.8"
  }
 },
 "nbformat": 4,
 "nbformat_minor": 5
}
