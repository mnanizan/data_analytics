{
 "cells": [
  {
   "cell_type": "markdown",
   "id": "902277b2",
   "metadata": {},
   "source": [
    "## Students in Portugal dataset - Teenagers Drinking Habits Analysis"
   ]
  },
  {
   "cell_type": "markdown",
   "id": "caed4772",
   "metadata": {},
   "source": [
    "In this project we use a dataset containing information about Portuguese students from two public schools. This is real world dataset that was collected in order to study alcohol consumption in young people and its effects on students academic performance. The dataset was built from two sources: school reports and questionnaires."
   ]
  },
  {
   "cell_type": "markdown",
   "id": "e1f2f367",
   "metadata": {},
   "source": [
    " Attribute contents:\n",
    "\n",
    "    *1. school - student's school (binary: 'GP' - Gabriel Pereira or 'MS' - Mousinho da Silveira)\n",
    "    *2. sex - student's sex (binary: 'F' - female or 'M' - male)\n",
    "    *3. age - student's age (numeric: from 15 to 22)\n",
    "    *4. address - student's home address type (binary: 'U' - urban or 'R' - rural)\n",
    "    *5. famsize - family size (binary: 'LE3' - less or equal to 3 or 'GT3' - greater than 3)\n",
    "    *6. Pstatus - parent's cohabitation status (binary:'T' - living together or 'A' - apart)\n",
    "    *7. Medu - mother's education (numeric: 0 - none, 1 - primary education (4th grade), 2–5th to 9th  grade, 3 – secondary education or 4 – higher education)\n",
    "    *8. Fedu - father's education (numeric: 0 - none, 1 - primary education (4th grade), 2–5th to 9th grade, 3 – secondary education or 4 – higher education)\n",
    "    *9. Mjob - mother's job (nominal: 'teacher', 'health' care related, civil 'services' (e.g. administrative or police), 'at_home' or 'other')\n",
    "    *10. Fjob - father's job (nominal: 'teacher', 'health' care related, civil 'services' (e.g. administrative or police), 'at_home' or 'other')\n",
    "    *11. reason - reason to choose this school (nominal: close to 'home', school 'reputation', 'course' preference or 'other')\n",
    "    *12. guardian - student's guardian (nominal: 'mother', 'father' or 'other')\n",
    "    *13. traveltime - home to school travel time (numeric: 1 - <15 min., 2-15 to 30 min., 3-30 min. to 1 hour, or 4 - >1 hour)\n",
    "    *14. studytime - weekly study time (numeric: 1 - <2 hours, 2-2 to 5 hours, 3-5 to 10 hours, or 4 - >10 hours)\n",
    "    *15. failures - number of past class failures (numeric: n if 1<=n<3, else 4)\n",
    "    *16. schoolsup - extra educational support (binary: yes or no)\n",
    "    *17. famsup - family educational support (binary: yes or no)\n",
    "    *18. paid - extra paid classes within the course subject (Math or Portuguese) (binary: yes or no)\n",
    "    *19. activities - extra-curricular activities (binary: yes or no)\n",
    "    *20. nursery - attended nursery school (binary: yes or no)\n",
    "    *21. higher - wants to take higher education (binary: yes or no)\n",
    "    *22. internet - Internet access at home (binary: yes or no)\n",
    "    *23. romantic - with a romantic relationship (binary: yes or no)\n",
    "    *24. famrel - quality of family relationships (numeric: from 1 - very bad to 5 - excellent)\n",
    "    *25. freetime - free time after school (numeric: from 1 - very low to 5 - very high)\n",
    "    *26. goout - going out with friends (numeric: from 1 - very low to 5 - very high)\n",
    "    *27. Dalc - workday alcohol consumption (numeric: from 1 - very low to 5 - very high)\n",
    "    *27. Walc - weekend alcohol consumption (numeric: from 1 - very low to 5 - very high)\n",
    "    *29. health - current health status (numeric: from 1 - very bad to 5 - very good)\n",
    "    *30. absences - number of school absences (numeric: from 0 to 93)\n",
    "\n",
    "These grades are related with the course subject, Math or Portuguese:\n",
    "\n",
    "    *31 G1 - first period grade (numeric: from 0 to 20)\n",
    "    *32 G2 - second period grade (numeric: from 0 to 20)\n",
    "    *33 G3 - final grade (numeric: from 0 to 20, output target)\n"
   ]
  },
  {
   "cell_type": "code",
   "execution_count": null,
   "id": "5f26a215",
   "metadata": {},
   "outputs": [],
   "source": [
    "import pandas as pd\n",
    "import matplotlib.pyplot as plt\n",
    "import seaborn as sns\n",
    "from numpy import sqrt, arange\n",
    "from scipy import stats\n",
    "%matplotlib inline"
   ]
  },
  {
   "cell_type": "code",
   "execution_count": null,
   "id": "62064c77",
   "metadata": {},
   "outputs": [],
   "source": [
    "import warnings\n",
    "warnings.filterwarnings('ignore')"
   ]
  },
  {
   "cell_type": "code",
   "execution_count": null,
   "id": "7cdf208f",
   "metadata": {},
   "outputs": [],
   "source": [
    "student = pd.read_csv('student-por.csv')"
   ]
  },
  {
   "cell_type": "code",
   "execution_count": null,
   "id": "a32c1dba",
   "metadata": {},
   "outputs": [],
   "source": [
    "student.head()"
   ]
  },
  {
   "cell_type": "markdown",
   "id": "32407c6d",
   "metadata": {},
   "source": [
    "In this analysis, we are interested in 3 variables:\n",
    "\n",
    "    1. Alcohol consumption level (we will create it & called it 'acl')\n",
    "    2. Final grade for the course subject(G3)\n",
    "    3. Gender of the student"
   ]
  },
  {
   "cell_type": "code",
   "execution_count": null,
   "id": "e04335a9",
   "metadata": {},
   "outputs": [],
   "source": [
    "# Rename 'sex' into 'gender'\n",
    "student.rename(columns={'sex':'gender'}, inplace=True)\n",
    "# Create 'alcohol_index' column by using'Dalc' & 'Walc' columns\n",
    "student['alcohol_index'] = (5*student['Dalc'] + 2*student['Walc'])/7\n",
    "# Create 'alc',alcohol consumtion level by using 'alcohol_index' column and it is suppose to be <= 2\n",
    "student['acl'] = student['alcohol_index'] <= 2\n",
    "# map the 'acl' column, if the 'acl' value is <= 2: 'Low', if it is > 2: 'High'\n",
    "student['acl'] = student['acl'].map({True: 'Low', False: 'High'})"
   ]
  },
  {
   "cell_type": "code",
   "execution_count": null,
   "id": "b0d52c32",
   "metadata": {},
   "outputs": [],
   "source": [
    "student.tail(10)"
   ]
  },
  {
   "cell_type": "markdown",
   "id": "236224e4",
   "metadata": {},
   "source": [
    "# Confidence Intervals"
   ]
  },
  {
   "cell_type": "markdown",
   "id": "29dd21ff",
   "metadata": {},
   "source": [
    "## Confidence intervals for the mean of the final grade"
   ]
  },
  {
   "cell_type": "markdown",
   "id": "ae917ce7",
   "metadata": {},
   "source": [
    "We can calculate confidence intervals for the means & for proportions."
   ]
  },
  {
   "cell_type": "code",
   "execution_count": null,
   "id": "d72bebdd",
   "metadata": {},
   "outputs": [],
   "source": [
    "sample_size = student.shape[0]\n",
    "print(sample_size)"
   ]
  },
  {
   "cell_type": "markdown",
   "id": "41ea3506",
   "metadata": {},
   "source": [
    "Because we have a sample size much greater than 30, we can use the __Central Limit Theorem__ to calculate confidence intervals. According to this theorem we can calculate a confidence interval for the mean using the normal distribution.\n",
    "\n",
    "To get the confidence interval for the men we need three numbers:\n",
    "    \n",
    "    1. Sample mean\n",
    "    2. Standard error\n",
    "    3. Confidence level\n",
    "    \n",
    " Formula for the __standard error__:\n",
    "               \n",
    "  ![title](standard_error_formula.png)\n",
    "  \n",
    "- sigma\t= \tsample standard deviation\n",
    "- n\t= \tnumber of samples\n",
    "\n"
   ]
  },
  {
   "cell_type": "code",
   "execution_count": null,
   "id": "3ee32608",
   "metadata": {},
   "outputs": [],
   "source": [
    "sample_mean_grade = student['G3'].mean()\n",
    "sample_mean_grade"
   ]
  },
  {
   "cell_type": "code",
   "execution_count": null,
   "id": "6598432b",
   "metadata": {},
   "outputs": [],
   "source": [
    "# Apply the formula\n",
    "std_error_grades = student['G3'].std()/sqrt(sample_size)"
   ]
  },
  {
   "cell_type": "code",
   "execution_count": null,
   "id": "ada18f67",
   "metadata": {},
   "outputs": [],
   "source": [
    "# 95% confidence interval(CI) for the mean of final grade\n",
    "stats.norm.interval(0.95, loc=sample_mean_grade, scale=std_error_grades)"
   ]
  },
  {
   "cell_type": "markdown",
   "id": "022b015f",
   "metadata": {},
   "source": [
    "__The 95% confidence interval for the mean of the final grade is between 9.9 to 10.8__"
   ]
  },
  {
   "cell_type": "markdown",
   "id": "796904af",
   "metadata": {},
   "source": [
    "Now let's calculate confidence interval for the proportion of students with __High alcohol Consumptions Level__. Again we need three numbers:\n",
    "\n",
    "    1. Sample proportions\n",
    "    2. Standard error\n",
    "    3. Confidence level\n",
    "    \n",
    " For __proportions the standard error__ is given by:\n",
    " \n",
    "   ![title](proportions_standard_error_formula.png)\n",
    "    \n",
    "    \n",
    "  \n",
    " - P = Proportion of successes. Population\n",
    " - n = Number of observations. Sample."
   ]
  },
  {
   "cell_type": "code",
   "execution_count": null,
   "id": "422490c6",
   "metadata": {},
   "outputs": [],
   "source": [
    "student['acl'].value_counts()"
   ]
  },
  {
   "cell_type": "code",
   "execution_count": null,
   "id": "0ce60dce",
   "metadata": {},
   "outputs": [],
   "source": [
    "# In percentage\n",
    "student['acl'].value_counts(normalize=True)"
   ]
  },
  {
   "cell_type": "code",
   "execution_count": null,
   "id": "5add49d1",
   "metadata": {},
   "outputs": [],
   "source": [
    "high_prop = student['acl'].value_counts(normalize=True)['High']\n",
    "std_error_prop = sqrt(high_prop*(1-high_prop)/sample_size)"
   ]
  },
  {
   "cell_type": "code",
   "execution_count": null,
   "id": "64eccf33",
   "metadata": {},
   "outputs": [],
   "source": [
    "stats.norm.interval(0.98, loc=high_prop, scale=std_error_prop)"
   ]
  },
  {
   "cell_type": "markdown",
   "id": "c794c023",
   "metadata": {},
   "source": [
    "__The 98% confidence interval for the proportion of students with High alcohol Consumptions Level is between 0.21 to 0.31__"
   ]
  },
  {
   "cell_type": "markdown",
   "id": "163c2981",
   "metadata": {},
   "source": [
    "# Probability calculations"
   ]
  },
  {
   "cell_type": "markdown",
   "id": "63059a3b",
   "metadata": {},
   "source": [
    "__Assuming the P(High ALC)=0.25. In a class of 10, what is the probability of finding 5 students with High ACL?__"
   ]
  },
  {
   "cell_type": "code",
   "execution_count": null,
   "id": "38137fdf",
   "metadata": {},
   "outputs": [],
   "source": [
    "# use binomial & probability mass function\n",
    "stats.binom.pmf(k=5, n=10, p=0.25)"
   ]
  },
  {
   "cell_type": "code",
   "execution_count": null,
   "id": "9fd7bb1e",
   "metadata": {},
   "outputs": [],
   "source": [
    "def plot_probs_n(n):\n",
    "    fig, ax= plt.subplots(1,2, figsize = (14,4))\n",
    "    ax[0].bar(arange(n+1), stats.binom.pmf(k=arange(n+1), n=n, p=0.25))\n",
    "    ax[0].set_xticks(arange(n+1))\n",
    "    ax[0].set_title('Probability mass function')\n",
    "    ax[1].plot(stats.binom.cdf(k=range(n+1), n=n, p=0.25))\n",
    "    ax[1].set_xticks(arange(n+1))\n",
    "    ax[1].set_title('Cumulative distribution function')"
   ]
  },
  {
   "cell_type": "code",
   "execution_count": null,
   "id": "9cb9e9ab",
   "metadata": {},
   "outputs": [],
   "source": [
    "plot_probs_n(10)"
   ]
  },
  {
   "cell_type": "markdown",
   "id": "38a38f8d",
   "metadata": {},
   "source": [
    "# Hypothesis Testing"
   ]
  },
  {
   "cell_type": "markdown",
   "id": "72596a6c",
   "metadata": {},
   "source": [
    "### 1. Are the population variances equal in the groups of students (Low vs High alcohol consumption)?"
   ]
  },
  {
   "cell_type": "markdown",
   "id": "de4b2887",
   "metadata": {},
   "source": [
    "Let's perform the Bartetts test whose Null Hypothesis is that the variances are equal. We will use a significance level of 5.0%."
   ]
  },
  {
   "cell_type": "code",
   "execution_count": null,
   "id": "98804114",
   "metadata": {},
   "outputs": [],
   "source": [
    "student.groupby('acl')['G3'].var()"
   ]
  },
  {
   "cell_type": "code",
   "execution_count": null,
   "id": "b4378f4d",
   "metadata": {},
   "outputs": [],
   "source": [
    "grades_low_acl = student['G3'][student['acl']=='Low']\n",
    "grades_high_acl = student['G3'][student['acl']=='High']\n",
    "# Bartetts test\n",
    "stats.bartlett(grades_low_acl, grades_high_acl)"
   ]
  },
  {
   "cell_type": "markdown",
   "id": "0df2ab67",
   "metadata": {},
   "source": [
    "According to the test we __cannot__ reject the Null Hypothesis of equl variances, so we will assume that the two groups are samples from a population with the same variances. This information will be useful in the next test."
   ]
  },
  {
   "cell_type": "markdown",
   "id": "6f39b85e",
   "metadata": {},
   "source": [
    "### 2. Does alcohol consumption affect academic performance?"
   ]
  },
  {
   "cell_type": "code",
   "execution_count": null,
   "id": "42973c5c",
   "metadata": {},
   "outputs": [],
   "source": [
    "fig, axes = plt.subplots(1,2, figsize=(14,4))\n",
    "sns.boxplot(x='acl', y='G3', data=student, ax=axes[0])\n",
    "sns.pointplot(x='acl', y='G3', data=student, ax=axes[1])"
   ]
  },
  {
   "cell_type": "markdown",
   "id": "f5ad64e6",
   "metadata": {},
   "source": [
    "The visualization suggest there is a difference between the means of the final grade of the two groups. Now we will perform a formal statistical test to confirm the hypothesis that students with High alcohol consumption level perform worse than the students with Low alcohol consumption level."
   ]
  },
  {
   "cell_type": "markdown",
   "id": "995db840",
   "metadata": {},
   "source": [
    "  > #### Null Hypothesis: For both groups(High & Low ACL) the population means of the final grade are equal.\n",
    "        \n",
    "  > #### Alternative Hypothesis: The population mens of the finalgrade are different"
   ]
  },
  {
   "cell_type": "code",
   "execution_count": null,
   "id": "17d6baf2",
   "metadata": {},
   "outputs": [],
   "source": [
    "# T-test\n",
    "stats.ttest_ind(grades_low_acl, grades_high_acl, equal_var=True)"
   ]
  },
  {
   "cell_type": "markdown",
   "id": "1efef633",
   "metadata": {},
   "source": [
    "Since we got a low p-value we can reject the Null Hypothesis of equal means for the two groups at a level of significance of 5%."
   ]
  },
  {
   "cell_type": "markdown",
   "id": "4ab0340c",
   "metadata": {},
   "source": [
    "> #### Conclusion: There is a statistical significance difference between the grades in the two analyzed groups, since the mean for the group with high alcohol consumption is less than the mean of the other group, the results suggest that alcohol consumption has a negative impact on students academic performance."
   ]
  },
  {
   "cell_type": "markdown",
   "id": "1e4a2e4d",
   "metadata": {},
   "source": [
    "### 3. Do male teenagers drink more than female teenagers?"
   ]
  },
  {
   "cell_type": "code",
   "execution_count": null,
   "id": "90ff68a0",
   "metadata": {},
   "outputs": [],
   "source": [
    "fig, axes = plt.subplots(1,2, figsize=(14,4))\n",
    "student['gender'].value_counts().plot(kind='bar', ax=axes[0], title='Gender')\n",
    "student['acl'].value_counts().plot(kind='bar', ax=axes[1], title='Alcohol Consumption Level')"
   ]
  },
  {
   "cell_type": "code",
   "execution_count": null,
   "id": "d09806e1",
   "metadata": {},
   "outputs": [],
   "source": [
    "gender_acl_table = pd.crosstab(student['acl'], student['gender'])\n",
    "gender_acl_table"
   ]
  },
  {
   "cell_type": "code",
   "execution_count": null,
   "id": "eb38365b",
   "metadata": {},
   "outputs": [],
   "source": [
    "fig, axes = plt.subplots(1,2, figsize=(14,4))\n",
    "gender_acl_table.plot(kind='bar', stacked=True, ax=axes[0]);\n",
    "(100*(gender_acl_table.T/gender_acl_table.apply(sum, axis=1)).T).plot(kind='bar', stacked=True, ax=axes[1]);"
   ]
  },
  {
   "cell_type": "markdown",
   "id": "42768439",
   "metadata": {},
   "source": [
    "Chi-square test of independence of variables in a contingency table."
   ]
  },
  {
   "cell_type": "markdown",
   "id": "7d3d3c1d",
   "metadata": {},
   "source": [
    "This function computes the chi-square statistic & p-value for the hypothesis test of independence of the observed frequencies in the contingency table."
   ]
  },
  {
   "cell_type": "code",
   "execution_count": null,
   "id": "fcbffb76",
   "metadata": {},
   "outputs": [],
   "source": [
    "# chi2:test statistic, p:p-value of the test, \n",
    "# dof:degrees of freedom, expected :expected frequencies, based on the marginal sums of the table.\n",
    "chi2, p, dof, expected = stats.chi2_contingency(gender_acl_table)"
   ]
  },
  {
   "cell_type": "code",
   "execution_count": null,
   "id": "540e735d",
   "metadata": {},
   "outputs": [],
   "source": [
    "p"
   ]
  },
  {
   "cell_type": "code",
   "execution_count": null,
   "id": "a798e9f5",
   "metadata": {},
   "outputs": [],
   "source": [
    "expected_table = pd.DataFrame(expected, index=['High', 'Low'], columns=['F','M'])\n",
    "expected_table"
   ]
  },
  {
   "cell_type": "code",
   "execution_count": null,
   "id": "457cc63e",
   "metadata": {},
   "outputs": [],
   "source": [
    "fig, axes= plt.subplots(1,2, figsize =(14,4))\n",
    "(100*(gender_acl_table.T/gender_acl_table.apply(sum, axis=1)).T)\\\n",
    ".plot(kind='bar', stacked=True, title='Observe', ax=axes[0])\n",
    "\n",
    "(100*(expected_table.T/expected_table.apply(sum, axis= 1)).T)\\\n",
    ".plot(kind='bar', stacked=True, title='Expected under NO relation', ax=axes[1])"
   ]
  },
  {
   "cell_type": "code",
   "execution_count": null,
   "id": "52c67469",
   "metadata": {},
   "outputs": [],
   "source": []
  }
 ],
 "metadata": {
  "kernelspec": {
   "display_name": "Python 3",
   "language": "python",
   "name": "python3"
  },
  "language_info": {
   "codemirror_mode": {
    "name": "ipython",
    "version": 3
   },
   "file_extension": ".py",
   "mimetype": "text/x-python",
   "name": "python",
   "nbconvert_exporter": "python",
   "pygments_lexer": "ipython3",
   "version": "3.8.8"
  }
 },
 "nbformat": 4,
 "nbformat_minor": 5
}
