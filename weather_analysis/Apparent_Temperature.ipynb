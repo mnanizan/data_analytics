{
 "cells": [
  {
   "cell_type": "markdown",
   "id": "d5e9bb35",
   "metadata": {},
   "source": [
    "![title](szeged.png)"
   ]
  },
  {
   "cell_type": "markdown",
   "id": "a8201fb6",
   "metadata": {},
   "source": [
    "Szeged (/ˈsɛɡɛd/ SEG-ed, Hungarian: is the third largest city of Hungary, the largest city and regional centre of the Southern Great Plain and the county seat of Csongrád-Csanád county-"
   ]
  },
  {
   "cell_type": "markdown",
   "id": "5659b224",
   "metadata": {},
   "source": [
    "Content\n",
    "\n",
    "The CSV file includes a hourly/daily summary for Szeged, Hungary area, between 2006 and 2016.\n",
    "\n",
    "Data available in the hourly response:\n",
    "\n",
    "    1.Time\n",
    "    2.Summary\n",
    "    3.PrecipType\n",
    "    4.Temperature\n",
    "    5.ApparentTemperature\n",
    "    6.Humidity\n",
    "    7.WindSpeed\n",
    "    8.WindBearing\n",
    "    9.Visibility\n",
    "    10.LoudCover\n",
    "    11.Pressure\n"
   ]
  },
  {
   "cell_type": "markdown",
   "id": "003bf746",
   "metadata": {},
   "source": [
    "# Please do note that this notebook is not yet run, because the size too big for github to read if it is saved after a run."
   ]
  },
  {
   "cell_type": "code",
   "execution_count": null,
   "id": "f587ea56",
   "metadata": {},
   "outputs": [],
   "source": [
    "import pandas as pd\n",
    "import numpy as np\n",
    "import matplotlib.pyplot as plt\n",
    "from datetime import datetime\n",
    "\n",
    "# Set the plots to display in the Jupyter notebook\n",
    "%matplotlib inline\n",
    "\n",
    "# Plotting colors per client request\n",
    "plt.style.use('ggplot')\n",
    "\n",
    "# Increase default figure and font sizes for easier viewing.\n",
    "plt.rcParams['figure.figsize'] = (12, 5)\n",
    "plt.rcParams['font.size'] = 10"
   ]
  },
  {
   "cell_type": "markdown",
   "id": "74a9f48e",
   "metadata": {},
   "source": [
    "Database link: https://www.kaggle.com/budincsevity/szeged-weather"
   ]
  },
  {
   "cell_type": "code",
   "execution_count": null,
   "id": "382888dc",
   "metadata": {},
   "outputs": [],
   "source": [
    "# Reading the data file\n",
    "weather = pd.read_csv('weather_szeged_2006-2016.csv')"
   ]
  },
  {
   "cell_type": "code",
   "execution_count": null,
   "id": "fca5a40e",
   "metadata": {},
   "outputs": [],
   "source": [
    "# Show some of value inside the DF\n",
    "weather.head(3)"
   ]
  },
  {
   "cell_type": "code",
   "execution_count": null,
   "id": "c9569518",
   "metadata": {},
   "outputs": [],
   "source": [
    "# Stating different types of data for each columns in the DF\n",
    "weather.dtypes"
   ]
  },
  {
   "cell_type": "code",
   "execution_count": null,
   "id": "7a6eb279",
   "metadata": {},
   "outputs": [],
   "source": [
    "# Show the number of columns & rows in the DF\n",
    "weather.shape"
   ]
  },
  {
   "cell_type": "code",
   "execution_count": null,
   "id": "de9a1f16",
   "metadata": {},
   "outputs": [],
   "source": [
    "# Calculate the rough total number of rows in the dataframe\n",
    "def  row_amt_mult(*args):\n",
    "    product = 1\n",
    "    \n",
    "    for num in args:\n",
    "        product = product * num\n",
    "    return product\n",
    "\n",
    "row_amt_mult(24,365,11)"
   ]
  },
  {
   "cell_type": "markdown",
   "id": "60039f44",
   "metadata": {},
   "source": [
    "Diffence between 'weather.shape' & 'row_amt_mult' row count output is because there are some repeated row index which will be drop in later step."
   ]
  },
  {
   "cell_type": "code",
   "execution_count": null,
   "id": "3093bc15",
   "metadata": {},
   "outputs": [],
   "source": [
    "# A function to get the information for specific medium\n",
    "def df_info():\n",
    "    while True:\n",
    "        try:\n",
    "            input_medium = int(input( \" Choose 1: Shape\\n Choose 2: Columns\\n Choose 3: Data types\\n Choose 4: Index\\n Choose 5: Describe\\n Choose 6: Head\\n Choose 0: Exit\\n \"))\n",
    "            \n",
    "            if input_medium == 1:\n",
    "                print (\"This are the rows and columns of the DataFrame \",weather.shape)\n",
    "            if input_medium == 2:\n",
    "                print (\"This are the list of columns for the DataFrame \\n \\n\",weather.columns)\n",
    "            if input_medium == 3:\n",
    "                print (\"This are the data types for the columns in DataFrame \\n\\n\",weather.dtypes)\n",
    "            if input_medium == 4:\n",
    "                print( \"The DataFrame is currently using this as index\\n\\n\",weather.index) \n",
    "            if input_medium == 5:\n",
    "                print(\"This are the summary of the DataFrame\\n\\n\",weather.describe())\n",
    "            if input_medium == 6:\n",
    "                print(\"This are some of  the data from the DataFrame\\n\\n\",weather.head())\n",
    "            if input_medium == 0:\n",
    "                break\n",
    "    \n",
    "        except Exception as ex:\n",
    "            print(\"Ooops! There is an error: {} with exception: {}\". format(type(ex).__name__,ex.args))\n",
    "            continue \n",
    "\n",
    "df_info()"
   ]
  },
  {
   "cell_type": "code",
   "execution_count": null,
   "id": "1d34a563",
   "metadata": {},
   "outputs": [],
   "source": [
    "# Creat a class for filtering purposes for a better valuesvizualization\n",
    "class Filter:\n",
    "    def __init__(self, make):\n",
    "        self.make = make\n",
    "        print(self.make)\n",
    " \n",
    "# Filter by column\n",
    "    def filter_col(self, weather_df_test):\n",
    "        self.test = weather\n",
    "        self.weather_df_test = weather_df_test\n",
    "        return self.test[self.weather_df_test]\n",
    "\n",
    "# Filter by requirement\n",
    "    def filter_req(self, weather_df_test, the_object):\n",
    "        list_observe = []\n",
    "        observe = ''\n",
    "        while observe != 'all':\n",
    "            observe = input( \" Enter column name : \")\n",
    "            if observe !='all':\n",
    "                list_observe.append(observe)\n",
    "                return self.test[self.test[weather_df_test] == the_object][[observe]]\n",
    "            if observe == 'all':\n",
    "                return self.test[self.test[weather_df_test] == the_object]       "
   ]
  },
  {
   "cell_type": "code",
   "execution_count": null,
   "id": "47350135",
   "metadata": {},
   "outputs": [],
   "source": [
    "# Create object out of the Filter class\n",
    "df_one = Filter('create_df')"
   ]
  },
  {
   "cell_type": "code",
   "execution_count": null,
   "id": "cf3dc6b9",
   "metadata": {},
   "outputs": [],
   "source": [
    "# Utilize the filter column method\n",
    "df_one.filter_col(['Temperature (C)'])"
   ]
  },
  {
   "cell_type": "code",
   "execution_count": null,
   "id": "5a9227b2",
   "metadata": {
    "scrolled": true
   },
   "outputs": [],
   "source": [
    "# Utilize the specific requirement filter method\n",
    "# Please enter a column name in the input space\n",
    "df_one.filter_req('Precip Type', 'snow')"
   ]
  },
  {
   "cell_type": "markdown",
   "id": "b0d95022",
   "metadata": {},
   "source": [
    "What is UTC: Coordinated Universal Time or UTC is the primary time standard by which the world regulates clocks and time.      -Wikipedia-"
   ]
  },
  {
   "cell_type": "code",
   "execution_count": null,
   "id": "195845ea",
   "metadata": {},
   "outputs": [],
   "source": [
    "weather.head(3)"
   ]
  },
  {
   "cell_type": "code",
   "execution_count": null,
   "id": "04b382b8",
   "metadata": {},
   "outputs": [],
   "source": [
    "# Deleting the UTC +0200 from the 'Formatted Date' in order to set this column as the index\n",
    "weather['Formatted Date'] = weather['Formatted Date'].apply(lambda x:x[:-6])"
   ]
  },
  {
   "cell_type": "code",
   "execution_count": null,
   "id": "bb22b877",
   "metadata": {},
   "outputs": [],
   "source": [
    "# Convert 'Formatted Date' from object to DateTime\n",
    "weather['Formatted Date'] = pd.to_datetime(weather['Formatted Date'])"
   ]
  },
  {
   "cell_type": "code",
   "execution_count": null,
   "id": "ae2bdf39",
   "metadata": {},
   "outputs": [],
   "source": [
    "# Set the 'Formatted Date as index\n",
    "weather.set_index('Formatted Date', inplace=True)"
   ]
  },
  {
   "cell_type": "code",
   "execution_count": null,
   "id": "21e822cc",
   "metadata": {},
   "outputs": [],
   "source": [
    "weather.head(3)"
   ]
  },
  {
   "cell_type": "markdown",
   "id": "807decc9",
   "metadata": {},
   "source": [
    "ANALYSIS: Study between Temperature (C) & Apparent Temperature (C)"
   ]
  },
  {
   "cell_type": "markdown",
   "id": "8978c07d",
   "metadata": {},
   "source": [
    "Apparent temperature is the temperature equivalent perceived by humans, caused by the combined effects of air temperature, relative humidity and wind speed. Apparent temperature was invented by Robert Steadman who published a paper about it in 1984. -Wikipedia-"
   ]
  },
  {
   "cell_type": "code",
   "execution_count": null,
   "id": "15235688",
   "metadata": {
    "scrolled": true
   },
   "outputs": [],
   "source": [
    "# Create sub DF for later temperature analysis\n",
    "weather_temp = df_one.filter_col(['Temperature (C)','Apparent Temperature (C)'])\n",
    "#weather_temp = weather[['Temperature (C)', 'Apparent Temperature (C)']]\n",
    "\n",
    "print(weather_temp.head())\n",
    "print(weather_temp.shape)"
   ]
  },
  {
   "cell_type": "code",
   "execution_count": null,
   "id": "26a60de5",
   "metadata": {
    "scrolled": true
   },
   "outputs": [],
   "source": [
    "# Create a variable for daily average temperatures\n",
    "avg_daily_temp = weather_temp.resample('24H').mean()\n",
    "\n",
    "\n",
    "print('Average Daily Temperature')\n",
    "print(avg_daily_temp)\n",
    "print('__________________________________________________________')\n",
    "print(avg_daily_temp.describe())\n",
    "\n",
    "avg_daily_temp.plot(kind='box')"
   ]
  },
  {
   "cell_type": "code",
   "execution_count": null,
   "id": "efb4ad3a",
   "metadata": {},
   "outputs": [],
   "source": [
    "plt.figure(figsize=(28,10))\n",
    "\n",
    "# Create variable for daily average temp for 1 year\n",
    "oneyear_avg_daily_temp = avg_daily_temp.groupby(avg_daily_temp.index.day_of_year).mean()\n",
    "\n",
    "# Plotting for 1 year daily average temperature of Temperature & Apparent Temperature\n",
    "plt.plot(oneyear_avg_daily_temp.index, oneyear_avg_daily_temp['Temperature (C)'], label=('Average Daily Temperature'))\n",
    "plt.plot(oneyear_avg_daily_temp.index, oneyear_avg_daily_temp['Apparent Temperature (C)'], label=('Average Daily Apparent Temperature'))\n",
    "\n",
    "plt.title('1 Year Average Temperature (C) & Apparent Temperature (C) for Szeged, 2006', fontsize=20)\n",
    "plt.xticks(np.linspace(0,366,13)[:-1], ('Jan', 'Feb', 'Mar', 'Apr', 'May', 'Jun','Jul','Aug','Sep','Oct', 'Nov', 'Dec'), fontsize=15)\n",
    "plt.yticks(fontsize=15)\n",
    "plt.legend()\n",
    "\n",
    "print('\\nFrom the below line chart we see that there are obvious deviations between Temperature & Apparent Temperature from a period of November to April')\n",
    "\n",
    "# Create variable for monthly average temp\n",
    "# Create variable for monthly average temp for 11 years\n",
    "avg_monthly_temp = weather_temp.resample('1M').mean()\n",
    "elevenyears_avg_monthly_temp = avg_monthly_temp.groupby(avg_monthly_temp.index).mean()\n",
    "plt.figure(figsize=(28,15))\n",
    "\n",
    "# Plotting for 11 years monthly average temperature of Temperature & Apparent Temperature\n",
    "plt.plot(elevenyears_avg_monthly_temp.index, elevenyears_avg_monthly_temp['Temperature (C)'], label=('Average Montly Temperature'))\n",
    "plt.plot(elevenyears_avg_monthly_temp.index, elevenyears_avg_monthly_temp['Apparent Temperature (C)'], label=('Average Monthly Apparent Temperature'))\n",
    "\n",
    "plt.title('11 Years Temperature (C) & Apparent Temperature (C) for Szeged, 2006-2016', fontsize=20)\n",
    "plt.xticks(fontsize=15)\n",
    "plt.yticks(fontsize=15)\n",
    "plt.legend()"
   ]
  },
  {
   "cell_type": "markdown",
   "id": "dd1f679f",
   "metadata": {},
   "source": [
    "From the above line charts, it shows that deviations happened on early & at end of the year.\n",
    "So why does this deviation happens at that specific time?. Does this correlate with what Robert Steadman said? air temperature, relative humidity and wind speed are what makes the Apparent Temperature that human body perceives?."
   ]
  },
  {
   "cell_type": "code",
   "execution_count": null,
   "id": "858a8c07",
   "metadata": {},
   "outputs": [],
   "source": [
    "# Create sub DF fro humidity\n",
    "#weather_humidity = weather[['Humidity']]\n",
    "weather_humidity = df_one.filter_col(['Humidity'])"
   ]
  },
  {
   "cell_type": "code",
   "execution_count": null,
   "id": "b6ada898",
   "metadata": {},
   "outputs": [],
   "source": [
    "weather_humidity"
   ]
  },
  {
   "cell_type": "code",
   "execution_count": null,
   "id": "01a62418",
   "metadata": {
    "scrolled": true
   },
   "outputs": [],
   "source": [
    "# Create a veriable for daily average humidty\n",
    "avg_daily_humidity = weather_humidity.resample('24H').mean()\n",
    "\n",
    "print('Average Daily Humidity')\n",
    "print(avg_daily_humidity)\n",
    "print('__________________________________________________________')\n",
    "print(avg_daily_humidity.describe())\n",
    "\n",
    "avg_daily_humidity.plot(kind='box')"
   ]
  },
  {
   "cell_type": "code",
   "execution_count": null,
   "id": "0fbd350b",
   "metadata": {},
   "outputs": [],
   "source": [
    "plt.figure(figsize=(28,10))\n",
    "\n",
    "# Create variable for daily average humidity for 1 year\n",
    "oneyear_avg_daily_humidity = avg_daily_humidity.groupby(avg_daily_humidity.index.day_of_year).mean()\n",
    "\n",
    "# Plotting for 1 year daily average humidity\n",
    "plt.plot(oneyear_avg_daily_humidity.index, oneyear_avg_daily_humidity, label=('Average Daily Humidity'))\n",
    "\n",
    "plt.title('1 Year Humidity for Szeged, 2006', fontsize=20)\n",
    "plt.xticks(np.linspace(0,366,13)[:-1], ('Jan', 'Feb', 'Mar', 'Apr', 'May', 'Jun','Jul','Aug','Sep','Oct', 'Nov', 'Dec'), fontsize=15)\n",
    "#plt.yticks(range(-10, 120, 10), fontsize=15)\n",
    "plt.legend()\n",
    "\n",
    "#print('\\nFrom the below line chart we see that there are obvious deviations between Temperature & Apparent Temperature from a period of November to April')\n",
    "\n",
    "\n",
    "plt.figure(figsize=(28,10))\n",
    "\n",
    "# Create variable for monthly average humidity\n",
    "# Create variable for monthly average humidity for 11 years\n",
    "avg_monthly_humidity = weather_humidity.resample('1M').mean()\n",
    "elevenyears_avg_monthly_humidity = avg_monthly_humidity.groupby(avg_monthly_humidity.index).mean()\n",
    "\n",
    "# Plotting for 11 years monthly average humidity\n",
    "plt.plot(elevenyears_avg_monthly_humidity.index, elevenyears_avg_monthly_humidity, label=('Average Montly Humidity'))\n",
    "\n",
    "plt.title('11 Years Humidity for Szeged, 2006-2016', fontsize=20)\n",
    "plt.xticks(fontsize=15)\n",
    "plt.yticks(fontsize=15)\n",
    "plt.legend()\n",
    "\n"
   ]
  },
  {
   "cell_type": "markdown",
   "id": "96cc8fea",
   "metadata": {},
   "source": [
    "Line graph from above shows that in the early & end of the year, humidity are high."
   ]
  },
  {
   "cell_type": "code",
   "execution_count": null,
   "id": "cf2cdb15",
   "metadata": {},
   "outputs": [],
   "source": [
    "# Create sub DF fro humidity\n",
    "#weather_wind= weather[['Wind Speed (km/h)']]\n",
    "weather_wind = df_one.filter_col(['Wind Speed (km/h)'])"
   ]
  },
  {
   "cell_type": "code",
   "execution_count": null,
   "id": "1179a3ce",
   "metadata": {},
   "outputs": [],
   "source": [
    "weather_wind"
   ]
  },
  {
   "cell_type": "code",
   "execution_count": null,
   "id": "3826fe63",
   "metadata": {},
   "outputs": [],
   "source": [
    "# Create a veriable for daily average wind speed\n",
    "avg_daily_wind = weather_wind.resample('24H').mean()\n",
    "\n",
    "print('Average Daily Wind Speed')\n",
    "print(avg_daily_wind)\n",
    "print('__________________________________________________________')\n",
    "print(avg_daily_wind.describe())\n",
    "\n",
    "avg_daily_wind.plot(kind='box')"
   ]
  },
  {
   "cell_type": "code",
   "execution_count": null,
   "id": "d6504477",
   "metadata": {},
   "outputs": [],
   "source": [
    "plt.figure(figsize=(28,10))\n",
    "\n",
    "# Create variable for daily average wind speed for 1 year\n",
    "oneyear_avg_daily_wind = avg_daily_wind.groupby(avg_daily_wind.index.day_of_year).mean()\n",
    "\n",
    "# Plotting for 1 year daily average humidity\n",
    "plt.plot(oneyear_avg_daily_wind.index, oneyear_avg_daily_wind, label=('Average Daily Wind Speed'))\n",
    "\n",
    "plt.title('1 Year Wind Speed for Szeged, 2006', fontsize=20)\n",
    "plt.xticks(np.linspace(0,366,13)[:-1], ('Jan', 'Feb', 'Mar', 'Apr', 'May', 'Jun','Jul','Aug','Sep','Oct', 'Nov', 'Dec'), fontsize=15)\n",
    "#plt.yticks(range(-10, 120, 10), fontsize=15)\n",
    "plt.legend()\n",
    "\n",
    "#print('\\nFrom the below line chart we see that there are obvious deviations between Temperature & Apparent Temperature from a period of November to April')\n",
    "\n",
    "\n",
    "plt.figure(figsize=(28,10))\n",
    "\n",
    "# Create variable for monthly average wind speed\n",
    "# Create variable for monthly average wind speed for 11 years\n",
    "avg_monthly_wind = weather_wind.resample('1M').mean()\n",
    "elevenyears_avg_monthly_wind = avg_monthly_wind.groupby(avg_monthly_wind.index).mean()\n",
    "\n",
    "# Plotting for 11 years monthly average humidity\n",
    "plt.plot(elevenyears_avg_monthly_wind.index, elevenyears_avg_monthly_wind, label=('Average Montly Wind Speed'))\n",
    "\n",
    "plt.title('11 Years Wind Speed for Szeged, 2006-2016', fontsize=20)\n",
    "plt.xticks(fontsize=15)\n",
    "plt.yticks(fontsize=15)\n",
    "plt.legend()"
   ]
  },
  {
   "cell_type": "markdown",
   "id": "3dc1cd1e",
   "metadata": {},
   "source": [
    "From both of the wind speed line graph, we can see that the value constantly moves up & down drastically, but we can still see that in the '1 Year Wind Speed for Szeged, 2006' line graph the value from december until next year april is higher than the other months. This concludes that what Robert Steadman said in his paper from 1984 is true! From my investigation the correlation between air temperature, humidy & wind speed did affect the temperature."
   ]
  },
  {
   "cell_type": "code",
   "execution_count": null,
   "id": "8d347bd5",
   "metadata": {},
   "outputs": [],
   "source": [
    "weather.shape"
   ]
  },
  {
   "cell_type": "code",
   "execution_count": null,
   "id": "b998e6d7",
   "metadata": {
    "scrolled": true
   },
   "outputs": [],
   "source": [
    "weather.index.unique()"
   ]
  },
  {
   "cell_type": "code",
   "execution_count": null,
   "id": "69a0353a",
   "metadata": {},
   "outputs": [],
   "source": [
    "# In order to create a dictionary based on weather DF index, i need to drop duplicates in the index\n",
    "weather['index'] = weather.index\n",
    "weather = weather.drop_duplicates('index')\n",
    "weather.set_index = weather['index']\n",
    "weather= weather.drop('index', axis =1)"
   ]
  },
  {
   "cell_type": "code",
   "execution_count": null,
   "id": "af8913d5",
   "metadata": {},
   "outputs": [],
   "source": [
    "# Create dictionary out of weather DF\n",
    "weather_dict_index = weather.to_dict(orient='index')"
   ]
  },
  {
   "cell_type": "code",
   "execution_count": null,
   "id": "43e69574",
   "metadata": {},
   "outputs": [],
   "source": [
    "weather_dict_index"
   ]
  },
  {
   "cell_type": "code",
   "execution_count": null,
   "id": "38c31d27",
   "metadata": {},
   "outputs": [],
   "source": [
    "weather_dict_index.keys()"
   ]
  },
  {
   "cell_type": "code",
   "execution_count": null,
   "id": "2e8aaf62",
   "metadata": {},
   "outputs": [],
   "source": [
    "# Calling all column values using dictionary\n",
    "weather_dict_index[pd.Timestamp('2012-04-11 12:00:00')]"
   ]
  },
  {
   "cell_type": "code",
   "execution_count": null,
   "id": "a3369621",
   "metadata": {},
   "outputs": [],
   "source": [
    "# Calling all collumn values using 'loc'\n",
    "weather.loc['2006-1-1 1:0:0' : '2006-1-1 2:0:0']"
   ]
  },
  {
   "cell_type": "markdown",
   "id": "2d40e035",
   "metadata": {},
   "source": [
    "# THANK YOU"
   ]
  },
  {
   "cell_type": "code",
   "execution_count": null,
   "id": "424fd1d2",
   "metadata": {},
   "outputs": [],
   "source": []
  }
 ],
 "metadata": {
  "kernelspec": {
   "display_name": "Python 3",
   "language": "python",
   "name": "python3"
  },
  "language_info": {
   "codemirror_mode": {
    "name": "ipython",
    "version": 3
   },
   "file_extension": ".py",
   "mimetype": "text/x-python",
   "name": "python",
   "nbconvert_exporter": "python",
   "pygments_lexer": "ipython3",
   "version": "3.8.8"
  }
 },
 "nbformat": 4,
 "nbformat_minor": 5
}
